{
 "cells": [
  {
   "cell_type": "markdown",
   "metadata": {},
   "source": [
    "## Aldi Supermarkets\n",
    "### cofee"
   ]
  },
  {
   "cell_type": "code",
   "execution_count": 1,
   "metadata": {
    "jupyter": {
     "outputs_hidden": true
    }
   },
   "outputs": [],
   "source": [
    "# Dependencies\n",
    "from bs4 import BeautifulSoup\n",
    "import requests\n",
    "import pymongo"
   ]
  },
  {
   "cell_type": "code",
   "execution_count": 2,
   "metadata": {
    "jupyter": {
     "outputs_hidden": true
    }
   },
   "outputs": [],
   "source": [
    "# Initialise PyMongo to work with MongoDBs\n",
    "conn = 'mongodb://localhost:27017'\n",
    "client = pymongo.MongoClient(conn)"
   ]
  },
  {
   "cell_type": "code",
   "execution_count": 3,
   "metadata": {
    "jupyter": {
     "outputs_hidden": true
    }
   },
   "outputs": [],
   "source": [
    "# Define database and collection\n",
    "db = client.Aldi_db\n",
    "collection = db.cofee"
   ]
  },
  {
   "cell_type": "code",
   "execution_count": 4,
   "metadata": {
    "jupyter": {
     "outputs_hidden": true
    }
   },
   "outputs": [],
   "source": [
    "# URL of page to be scraped\n",
    "url = 'https://www.aldi.com.au/en/groceries/pantry/coffee/'\n",
    "\n",
    "# Retrieve page with the requests module\n",
    "response = requests.get(url)\n",
    "# Create BeautifulSoup object; parse with 'lxml'\n",
    "soup = BeautifulSoup(response.text, 'lxml')"
   ]
  },
  {
   "cell_type": "code",
   "execution_count": 5,
   "metadata": {},
   "outputs": [
    {
     "data": {
      "text/plain": [
       "<Response [200]>"
      ]
     },
     "execution_count": 5,
     "metadata": {},
     "output_type": "execute_result"
    }
   ],
   "source": [
    "response"
   ]
  },
  {
   "cell_type": "code",
   "execution_count": 6,
   "metadata": {},
   "outputs": [
    {
     "name": "stdout",
     "output_type": "stream",
     "text": [
      "-------------\n",
      "\n",
      "\t\t\t\t\tExpressi Intenzo \n",
      "\t\t\t\t\n",
      "$6.\n",
      "-------------\n",
      "\n",
      "\t\t\t\t\tExpressi Calabrese \n",
      "\t\t\t\t\n",
      "$6.\n",
      "-------------\n",
      "\n",
      "\t\t\t\t\tExpressi Abruzzo \n",
      "\t\t\t\t\n",
      "$6.\n",
      "-------------\n",
      "\n",
      "\t\t\t\t\tExpressi Torino \n",
      "\t\t\t\t\n",
      "$6.\n",
      "-------------\n",
      "\n",
      "\t\t\t\t\tExpressi Milano \n",
      "\t\t\t\t\n",
      "$6.\n",
      "-------------\n",
      "\n",
      "\t\t\t\t\tExpressi Reggio \n",
      "\t\t\t\t\n",
      "$6.\n",
      "-------------\n",
      "\n",
      "\t\t\t\t\tExpressi Renzo \n",
      "\t\t\t\t\n",
      "$6.\n",
      "-------------\n",
      "\n",
      "\t\t\t\t\tExpressi Organic \n",
      "\t\t\t\t\n",
      "$6.\n",
      "-------------\n",
      "\n",
      "\t\t\t\t\tExpressi Decaffi \n",
      "\t\t\t\t\n",
      "$6.\n",
      "-------------\n",
      "\n",
      "\t\t\t\t\tExpressi Valletta \n",
      "\t\t\t\t\n",
      "$6.\n",
      "-------------\n",
      "\n",
      "\t\t\t\t\tExpressi Tauro \n",
      "\t\t\t\t\n",
      "$6.\n",
      "-------------\n",
      "\n",
      "\t\t\t\t\tExpressi Rich Hot Chocolate \n",
      "\t\t\t\t\n",
      "$6.\n",
      "-------------\n",
      "\n",
      "\t\t\t\t\tEXPRESSI Coffee Capsule Machine – One \n",
      "\t\t\t\t\n",
      "$79.\n",
      "-------------\n",
      "\n",
      "\t\t\t\t\tEXPRESSI Milk Frother \n",
      "\t\t\t\t\n",
      "$31.\n"
     ]
    }
   ],
   "source": [
    "results = soup.find_all('div',class_=\"ratio-container m-ratio-57x25 box--description m-no-ratio-on-phone\")\n",
    "\n",
    "# Loop through returned results\n",
    "for result in results:\n",
    "    # Error handling\n",
    "    try:\n",
    "        # Identify and return title of listing\n",
    "        title = result.find('div',class_=\"box--description--header\").text\n",
    "        # Identify and return price of listing\n",
    "        price = result.find('span', class_='box--value').text\n",
    "        # Identify and return link to listing\n",
    "#         link = result.a['href']\n",
    "\n",
    "        # Run only if title, price, and link are available\n",
    "        if (title and price):\n",
    "            # Print results\n",
    "            print('-------------')\n",
    "            print(title)\n",
    "            print(price)\n",
    "#             print(link)\n",
    "\n",
    "            # Dictionary to be inserted as a MongoDB document\n",
    "            post = {\n",
    "                'title': title,\n",
    "                'price': price,\n",
    "#                 'url': link\n",
    "            }\n",
    "\n",
    "            collection.insert_one(post)\n",
    "\n",
    "    except Exception as e:\n",
    "        print(e)"
   ]
  },
  {
   "cell_type": "code",
   "execution_count": null,
   "metadata": {},
   "outputs": [],
   "source": []
  },
  {
   "cell_type": "code",
   "execution_count": null,
   "metadata": {},
   "outputs": [],
   "source": []
  }
 ],
 "metadata": {
  "kernelspec": {
   "display_name": "Python 3 (ipykernel)",
   "language": "python",
   "name": "python3"
  },
  "language_info": {
   "codemirror_mode": {
    "name": "ipython",
    "version": 3
   },
   "file_extension": ".py",
   "mimetype": "text/x-python",
   "name": "python",
   "nbconvert_exporter": "python",
   "pygments_lexer": "ipython3",
   "version": "3.7.7"
  },
  "varInspector": {
   "cols": {
    "lenName": 16,
    "lenType": 16,
    "lenVar": 40
   },
   "kernels_config": {
    "python": {
     "delete_cmd_postfix": "",
     "delete_cmd_prefix": "del ",
     "library": "var_list.py",
     "varRefreshCmd": "print(var_dic_list())"
    },
    "r": {
     "delete_cmd_postfix": ") ",
     "delete_cmd_prefix": "rm(",
     "library": "var_list.r",
     "varRefreshCmd": "cat(var_dic_list()) "
    }
   },
   "types_to_exclude": [
    "module",
    "function",
    "builtin_function_or_method",
    "instance",
    "_Feature"
   ],
   "window_display": false
  }
 },
 "nbformat": 4,
 "nbformat_minor": 4
}
