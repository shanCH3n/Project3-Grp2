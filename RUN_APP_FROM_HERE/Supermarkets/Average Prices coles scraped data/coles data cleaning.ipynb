{
 "cells": [
  {
   "cell_type": "markdown",
   "metadata": {},
   "source": [
    "## Coles Supermarkets\n",
    "### Average price of flavoured milk"
   ]
  },
  {
   "cell_type": "code",
   "execution_count": 1,
   "metadata": {},
   "outputs": [],
   "source": [
    "import pandas as pd"
   ]
  },
  {
   "cell_type": "code",
   "execution_count": 2,
   "metadata": {},
   "outputs": [],
   "source": [
    "file_one = \"flovredmilk(1L).csv\""
   ]
  },
  {
   "cell_type": "code",
   "execution_count": 3,
   "metadata": {},
   "outputs": [],
   "source": [
    "df = pd.read_csv(file_one, encoding=\"ISO-8859-1\")"
   ]
  },
  {
   "cell_type": "code",
   "execution_count": 4,
   "metadata": {},
   "outputs": [
    {
     "data": {
      "text/html": [
       "<div>\n",
       "<style scoped>\n",
       "    .dataframe tbody tr th:only-of-type {\n",
       "        vertical-align: middle;\n",
       "    }\n",
       "\n",
       "    .dataframe tbody tr th {\n",
       "        vertical-align: top;\n",
       "    }\n",
       "\n",
       "    .dataframe thead th {\n",
       "        text-align: right;\n",
       "    }\n",
       "</style>\n",
       "<table border=\"1\" class=\"dataframe\">\n",
       "  <thead>\n",
       "    <tr style=\"text-align: right;\">\n",
       "      <th></th>\n",
       "      <th>_id</th>\n",
       "      <th>price</th>\n",
       "      <th>title</th>\n",
       "    </tr>\n",
       "  </thead>\n",
       "  <tbody>\n",
       "    <tr>\n",
       "      <th>0</th>\n",
       "      <td>63d5ac43d0f7cf9498569f92</td>\n",
       "      <td>$3.30</td>\n",
       "      <td>Boss Vanilla Latte Coffee | 237mL</td>\n",
       "    </tr>\n",
       "    <tr>\n",
       "      <th>1</th>\n",
       "      <td>63d5ac44d0f7cf9498569f93</td>\n",
       "      <td>$2.90</td>\n",
       "      <td>Dare Double Espresso Flavoured Milk | 500mL</td>\n",
       "    </tr>\n",
       "    <tr>\n",
       "      <th>2</th>\n",
       "      <td>63d5ac44d0f7cf9498569f94</td>\n",
       "      <td>$3.00</td>\n",
       "      <td>Vitasoy Iced Coffee Soy Milk | 1L</td>\n",
       "    </tr>\n",
       "    <tr>\n",
       "      <th>3</th>\n",
       "      <td>63d5ac44d0f7cf9498569f95</td>\n",
       "      <td>$3.30</td>\n",
       "      <td>Boss Caramel Coffee | 237mL</td>\n",
       "    </tr>\n",
       "    <tr>\n",
       "      <th>4</th>\n",
       "      <td>63d5ac44d0f7cf9498569f96</td>\n",
       "      <td>$2.00</td>\n",
       "      <td>Bubble Milk Tea Original With Tapioca Pearls |...</td>\n",
       "    </tr>\n",
       "  </tbody>\n",
       "</table>\n",
       "</div>"
      ],
      "text/plain": [
       "                        _id  price  \\\n",
       "0  63d5ac43d0f7cf9498569f92  $3.30   \n",
       "1  63d5ac44d0f7cf9498569f93  $2.90   \n",
       "2  63d5ac44d0f7cf9498569f94  $3.00   \n",
       "3  63d5ac44d0f7cf9498569f95  $3.30   \n",
       "4  63d5ac44d0f7cf9498569f96  $2.00   \n",
       "\n",
       "                                               title  \n",
       "0                  Boss Vanilla Latte Coffee | 237mL  \n",
       "1        Dare Double Espresso Flavoured Milk | 500mL  \n",
       "2                  Vitasoy Iced Coffee Soy Milk | 1L  \n",
       "3                        Boss Caramel Coffee | 237mL  \n",
       "4  Bubble Milk Tea Original With Tapioca Pearls |...  "
      ]
     },
     "execution_count": 4,
     "metadata": {},
     "output_type": "execute_result"
    }
   ],
   "source": [
    "df.head()"
   ]
  },
  {
   "cell_type": "code",
   "execution_count": 5,
   "metadata": {},
   "outputs": [
    {
     "data": {
      "text/plain": [
       "_id      object\n",
       "price    object\n",
       "title    object\n",
       "dtype: object"
      ]
     },
     "execution_count": 5,
     "metadata": {},
     "output_type": "execute_result"
    }
   ],
   "source": [
    "df.dtypes"
   ]
  },
  {
   "cell_type": "code",
   "execution_count": 6,
   "metadata": {},
   "outputs": [
    {
     "data": {
      "text/plain": [
       "0     3.30\n",
       "1     2.90\n",
       "2     3.00\n",
       "3     3.30\n",
       "4     2.00\n",
       "5     2.50\n",
       "6     2.90\n",
       "7     3.80\n",
       "8     2.90\n",
       "9     5.30\n",
       "10    6.00\n",
       "11    1.95\n",
       "12    2.00\n",
       "13    2.50\n",
       "14    3.60\n",
       "15    3.80\n",
       "16    2.50\n",
       "17    3.60\n",
       "18    9.00\n",
       "19    3.55\n",
       "20    2.90\n",
       "21    3.00\n",
       "22    3.80\n",
       "23    5.80\n",
       "24    2.40\n",
       "25    3.80\n",
       "26    2.90\n",
       "27    3.60\n",
       "28    4.00\n",
       "29    2.90\n",
       "30    4.95\n",
       "31    2.00\n",
       "32    2.40\n",
       "33    3.00\n",
       "34    2.00\n",
       "35    3.30\n",
       "36    4.00\n",
       "37    5.00\n",
       "38    2.00\n",
       "39    4.75\n",
       "Name: price, dtype: object"
      ]
     },
     "execution_count": 6,
     "metadata": {},
     "output_type": "execute_result"
    }
   ],
   "source": [
    "df['price'] = df['price'].str.replace('$', '')\n",
    "df['price']"
   ]
  },
  {
   "cell_type": "code",
   "execution_count": 7,
   "metadata": {},
   "outputs": [],
   "source": [
    "\n",
    "df['price'] = pd.to_numeric(df['price'])"
   ]
  },
  {
   "cell_type": "code",
   "execution_count": 8,
   "metadata": {},
   "outputs": [
    {
     "data": {
      "text/plain": [
       "_id       object\n",
       "price    float64\n",
       "title     object\n",
       "dtype: object"
      ]
     },
     "execution_count": 8,
     "metadata": {},
     "output_type": "execute_result"
    }
   ],
   "source": [
    "df.dtypes"
   ]
  },
  {
   "cell_type": "code",
   "execution_count": 9,
   "metadata": {},
   "outputs": [
    {
     "data": {
      "text/plain": [
       "3.4724999999999993"
      ]
     },
     "execution_count": 9,
     "metadata": {},
     "output_type": "execute_result"
    }
   ],
   "source": [
    "average = df[\"price\"].mean()\n",
    "average"
   ]
  },
  {
   "cell_type": "markdown",
   "metadata": {},
   "source": [
    "\n",
    "### Average Bread price "
   ]
  },
  {
   "cell_type": "code",
   "execution_count": 10,
   "metadata": {},
   "outputs": [
    {
     "data": {
      "text/html": [
       "<div>\n",
       "<style scoped>\n",
       "    .dataframe tbody tr th:only-of-type {\n",
       "        vertical-align: middle;\n",
       "    }\n",
       "\n",
       "    .dataframe tbody tr th {\n",
       "        vertical-align: top;\n",
       "    }\n",
       "\n",
       "    .dataframe thead th {\n",
       "        text-align: right;\n",
       "    }\n",
       "</style>\n",
       "<table border=\"1\" class=\"dataframe\">\n",
       "  <thead>\n",
       "    <tr style=\"text-align: right;\">\n",
       "      <th></th>\n",
       "      <th>_id</th>\n",
       "      <th>price</th>\n",
       "      <th>title</th>\n",
       "    </tr>\n",
       "  </thead>\n",
       "  <tbody>\n",
       "    <tr>\n",
       "      <th>0</th>\n",
       "      <td>63d5bb213242b32ce9216317</td>\n",
       "      <td>$0.95</td>\n",
       "      <td>Coles Cracker Squares | 250g</td>\n",
       "    </tr>\n",
       "    <tr>\n",
       "      <th>1</th>\n",
       "      <td>63d5bb213242b32ce9216318</td>\n",
       "      <td>$0.95</td>\n",
       "      <td>Coles Cracked Pepper Water Crackers | 125g</td>\n",
       "    </tr>\n",
       "    <tr>\n",
       "      <th>2</th>\n",
       "      <td>63d5bb213242b32ce9216319</td>\n",
       "      <td>$0.95</td>\n",
       "      <td>Coles Original Water Crackers | 125g</td>\n",
       "    </tr>\n",
       "    <tr>\n",
       "      <th>3</th>\n",
       "      <td>63d5bb213242b32ce921631a</td>\n",
       "      <td>$1.30</td>\n",
       "      <td>Coles Bakery High Top Half Sandwich Loaf | 320g</td>\n",
       "    </tr>\n",
       "    <tr>\n",
       "      <th>4</th>\n",
       "      <td>63d5bb213242b32ce921631b</td>\n",
       "      <td>$1.30</td>\n",
       "      <td>Coles Bakery High Top Half Toast Loaf | 320g</td>\n",
       "    </tr>\n",
       "  </tbody>\n",
       "</table>\n",
       "</div>"
      ],
      "text/plain": [
       "                        _id  price  \\\n",
       "0  63d5bb213242b32ce9216317  $0.95   \n",
       "1  63d5bb213242b32ce9216318  $0.95   \n",
       "2  63d5bb213242b32ce9216319  $0.95   \n",
       "3  63d5bb213242b32ce921631a  $1.30   \n",
       "4  63d5bb213242b32ce921631b  $1.30   \n",
       "\n",
       "                                             title  \n",
       "0                     Coles Cracker Squares | 250g  \n",
       "1       Coles Cracked Pepper Water Crackers | 125g  \n",
       "2             Coles Original Water Crackers | 125g  \n",
       "3  Coles Bakery High Top Half Sandwich Loaf | 320g  \n",
       "4     Coles Bakery High Top Half Toast Loaf | 320g  "
      ]
     },
     "execution_count": 10,
     "metadata": {},
     "output_type": "execute_result"
    }
   ],
   "source": [
    "file_two = \"bread.csv\"\n",
    "df2 = pd.read_csv(file_two, encoding=\"ISO-8859-1\")\n",
    "df2.head()"
   ]
  },
  {
   "cell_type": "code",
   "execution_count": 11,
   "metadata": {},
   "outputs": [
    {
     "data": {
      "text/plain": [
       "_id      object\n",
       "price    object\n",
       "title    object\n",
       "dtype: object"
      ]
     },
     "execution_count": 11,
     "metadata": {},
     "output_type": "execute_result"
    }
   ],
   "source": [
    "df2.dtypes"
   ]
  },
  {
   "cell_type": "code",
   "execution_count": 12,
   "metadata": {},
   "outputs": [],
   "source": [
    "df2['price'] = df2['price'].str.replace('$', '')\n",
    "df2['price'] = pd.to_numeric(df2['price'])"
   ]
  },
  {
   "cell_type": "code",
   "execution_count": 13,
   "metadata": {},
   "outputs": [
    {
     "data": {
      "text/plain": [
       "_id       object\n",
       "price    float64\n",
       "title     object\n",
       "dtype: object"
      ]
     },
     "execution_count": 13,
     "metadata": {},
     "output_type": "execute_result"
    }
   ],
   "source": [
    "df2.dtypes"
   ]
  },
  {
   "cell_type": "code",
   "execution_count": 14,
   "metadata": {},
   "outputs": [
    {
     "data": {
      "text/plain": [
       "1.8723404255319156"
      ]
     },
     "execution_count": 14,
     "metadata": {},
     "output_type": "execute_result"
    }
   ],
   "source": [
    "average2= df2[\"price\"].mean()\n",
    "average2"
   ]
  },
  {
   "cell_type": "code",
   "execution_count": 15,
   "metadata": {},
   "outputs": [
    {
     "data": {
      "text/plain": [
       "2.0"
      ]
     },
     "execution_count": 15,
     "metadata": {},
     "output_type": "execute_result"
    }
   ],
   "source": [
    "average2.round()"
   ]
  },
  {
   "cell_type": "markdown",
   "metadata": {},
   "source": [
    "## Average price jam honey spread"
   ]
  },
  {
   "cell_type": "code",
   "execution_count": 17,
   "metadata": {},
   "outputs": [
    {
     "data": {
      "text/html": [
       "<div>\n",
       "<style scoped>\n",
       "    .dataframe tbody tr th:only-of-type {\n",
       "        vertical-align: middle;\n",
       "    }\n",
       "\n",
       "    .dataframe tbody tr th {\n",
       "        vertical-align: top;\n",
       "    }\n",
       "\n",
       "    .dataframe thead th {\n",
       "        text-align: right;\n",
       "    }\n",
       "</style>\n",
       "<table border=\"1\" class=\"dataframe\">\n",
       "  <thead>\n",
       "    <tr style=\"text-align: right;\">\n",
       "      <th></th>\n",
       "      <th>_id</th>\n",
       "      <th>price</th>\n",
       "      <th>title</th>\n",
       "    </tr>\n",
       "  </thead>\n",
       "  <tbody>\n",
       "    <tr>\n",
       "      <th>0</th>\n",
       "      <td>63d5bee734437fd22db5719a</td>\n",
       "      <td>$9.75</td>\n",
       "      <td>Nutella Hazelnut Chocolate Spread | 750g</td>\n",
       "    </tr>\n",
       "    <tr>\n",
       "      <th>1</th>\n",
       "      <td>63d5bee734437fd22db5719b</td>\n",
       "      <td>$5.70</td>\n",
       "      <td>Nutella Hazelnut Chocolate Spread | 400g</td>\n",
       "    </tr>\n",
       "    <tr>\n",
       "      <th>2</th>\n",
       "      <td>63d5bee734437fd22db5719c</td>\n",
       "      <td>$5.35</td>\n",
       "      <td>Bonne Maman Strawberry Jam | 370g</td>\n",
       "    </tr>\n",
       "    <tr>\n",
       "      <th>3</th>\n",
       "      <td>63d5bee734437fd22db5719d</td>\n",
       "      <td>$8.50</td>\n",
       "      <td>B Honey Squeeze | 450g</td>\n",
       "    </tr>\n",
       "    <tr>\n",
       "      <th>4</th>\n",
       "      <td>63d5bee734437fd22db5719e</td>\n",
       "      <td>$5.00</td>\n",
       "      <td>B Honey Squeeze | 300g</td>\n",
       "    </tr>\n",
       "  </tbody>\n",
       "</table>\n",
       "</div>"
      ],
      "text/plain": [
       "                        _id  price                                     title\n",
       "0  63d5bee734437fd22db5719a  $9.75  Nutella Hazelnut Chocolate Spread | 750g\n",
       "1  63d5bee734437fd22db5719b  $5.70  Nutella Hazelnut Chocolate Spread | 400g\n",
       "2  63d5bee734437fd22db5719c  $5.35         Bonne Maman Strawberry Jam | 370g\n",
       "3  63d5bee734437fd22db5719d  $8.50                    B Honey Squeeze | 450g\n",
       "4  63d5bee734437fd22db5719e  $5.00                    B Honey Squeeze | 300g"
      ]
     },
     "execution_count": 17,
     "metadata": {},
     "output_type": "execute_result"
    }
   ],
   "source": [
    "file_three = \"jam honey spread.csv\"\n",
    "df3 = pd.read_csv(file_three, encoding=\"ISO-8859-1\")\n",
    "df3.head()"
   ]
  },
  {
   "cell_type": "code",
   "execution_count": 18,
   "metadata": {},
   "outputs": [
    {
     "data": {
      "text/plain": [
       "_id      object\n",
       "price    object\n",
       "title    object\n",
       "dtype: object"
      ]
     },
     "execution_count": 18,
     "metadata": {},
     "output_type": "execute_result"
    }
   ],
   "source": [
    "df3.dtypes"
   ]
  },
  {
   "cell_type": "code",
   "execution_count": 19,
   "metadata": {},
   "outputs": [],
   "source": [
    "df3['price'] = df3['price'].str.replace('$', '')\n",
    "df3['price'] = pd.to_numeric(df3['price'])"
   ]
  },
  {
   "cell_type": "code",
   "execution_count": 20,
   "metadata": {},
   "outputs": [
    {
     "data": {
      "text/plain": [
       "_id       object\n",
       "price    float64\n",
       "title     object\n",
       "dtype: object"
      ]
     },
     "execution_count": 20,
     "metadata": {},
     "output_type": "execute_result"
    }
   ],
   "source": [
    "df3.dtypes"
   ]
  },
  {
   "cell_type": "code",
   "execution_count": 21,
   "metadata": {},
   "outputs": [
    {
     "data": {
      "text/plain": [
       "5.44"
      ]
     },
     "execution_count": 21,
     "metadata": {},
     "output_type": "execute_result"
    }
   ],
   "source": [
    "average3= df3[\"price\"].mean()\n",
    "average3.round(2)"
   ]
  },
  {
   "cell_type": "markdown",
   "metadata": {},
   "source": [
    "## Average price of meat(lamb)"
   ]
  },
  {
   "cell_type": "code",
   "execution_count": 22,
   "metadata": {},
   "outputs": [
    {
     "data": {
      "text/html": [
       "<div>\n",
       "<style scoped>\n",
       "    .dataframe tbody tr th:only-of-type {\n",
       "        vertical-align: middle;\n",
       "    }\n",
       "\n",
       "    .dataframe tbody tr th {\n",
       "        vertical-align: top;\n",
       "    }\n",
       "\n",
       "    .dataframe thead th {\n",
       "        text-align: right;\n",
       "    }\n",
       "</style>\n",
       "<table border=\"1\" class=\"dataframe\">\n",
       "  <thead>\n",
       "    <tr style=\"text-align: right;\">\n",
       "      <th></th>\n",
       "      <th>_id</th>\n",
       "      <th>price</th>\n",
       "      <th>title</th>\n",
       "    </tr>\n",
       "  </thead>\n",
       "  <tbody>\n",
       "    <tr>\n",
       "      <th>0</th>\n",
       "      <td>63d5c1f86a0d401a195d7588</td>\n",
       "      <td>$6.25</td>\n",
       "      <td>Coles Lamb Mini Rump Roast In Red Wine Jus | a...</td>\n",
       "    </tr>\n",
       "    <tr>\n",
       "      <th>1</th>\n",
       "      <td>63d5c1f86a0d401a195d7589</td>\n",
       "      <td>$6.72</td>\n",
       "      <td>Coles Lamb Loin Chops With Sea Salt And Rosema...</td>\n",
       "    </tr>\n",
       "    <tr>\n",
       "      <th>2</th>\n",
       "      <td>63d5c1f86a0d401a195d758a</td>\n",
       "      <td>$6.94</td>\n",
       "      <td>Coles Lamb Meat Bones | approx. 991g</td>\n",
       "    </tr>\n",
       "    <tr>\n",
       "      <th>3</th>\n",
       "      <td>63d5c1f86a0d401a195d758b</td>\n",
       "      <td>$7.70</td>\n",
       "      <td>Coles Lamb Meat Bones | approx. 1.1kg</td>\n",
       "    </tr>\n",
       "    <tr>\n",
       "      <th>4</th>\n",
       "      <td>63d5c1f86a0d401a195d758c</td>\n",
       "      <td>$7.50</td>\n",
       "      <td>Coles Rump Steak 2 Pack | 215g</td>\n",
       "    </tr>\n",
       "  </tbody>\n",
       "</table>\n",
       "</div>"
      ],
      "text/plain": [
       "                        _id  price  \\\n",
       "0  63d5c1f86a0d401a195d7588  $6.25   \n",
       "1  63d5c1f86a0d401a195d7589  $6.72   \n",
       "2  63d5c1f86a0d401a195d758a  $6.94   \n",
       "3  63d5c1f86a0d401a195d758b  $7.70   \n",
       "4  63d5c1f86a0d401a195d758c  $7.50   \n",
       "\n",
       "                                               title  \n",
       "0  Coles Lamb Mini Rump Roast In Red Wine Jus | a...  \n",
       "1  Coles Lamb Loin Chops With Sea Salt And Rosema...  \n",
       "2               Coles Lamb Meat Bones | approx. 991g  \n",
       "3              Coles Lamb Meat Bones | approx. 1.1kg  \n",
       "4                     Coles Rump Steak 2 Pack | 215g  "
      ]
     },
     "execution_count": 22,
     "metadata": {},
     "output_type": "execute_result"
    }
   ],
   "source": [
    "file_four = \"meat.csv\"\n",
    "df4 = pd.read_csv(file_four, encoding=\"ISO-8859-1\")\n",
    "df4.head()"
   ]
  },
  {
   "cell_type": "code",
   "execution_count": 23,
   "metadata": {},
   "outputs": [
    {
     "data": {
      "text/plain": [
       "_id      object\n",
       "price    object\n",
       "title    object\n",
       "dtype: object"
      ]
     },
     "execution_count": 23,
     "metadata": {},
     "output_type": "execute_result"
    }
   ],
   "source": [
    "df4.dtypes"
   ]
  },
  {
   "cell_type": "code",
   "execution_count": 24,
   "metadata": {},
   "outputs": [],
   "source": [
    "df4['price'] = df4['price'].str.replace('$', '')\n",
    "df4['price'] = pd.to_numeric(df4['price'])"
   ]
  },
  {
   "cell_type": "code",
   "execution_count": 25,
   "metadata": {},
   "outputs": [
    {
     "data": {
      "text/plain": [
       "_id       object\n",
       "price    float64\n",
       "title     object\n",
       "dtype: object"
      ]
     },
     "execution_count": 25,
     "metadata": {},
     "output_type": "execute_result"
    }
   ],
   "source": [
    "df4.dtypes"
   ]
  },
  {
   "cell_type": "code",
   "execution_count": 26,
   "metadata": {},
   "outputs": [
    {
     "data": {
      "text/plain": [
       "16.5"
      ]
     },
     "execution_count": 26,
     "metadata": {},
     "output_type": "execute_result"
    }
   ],
   "source": [
    "average4= df4[\"price\"].mean()\n",
    "average4.round(2)"
   ]
  },
  {
   "cell_type": "code",
   "execution_count": 27,
   "metadata": {},
   "outputs": [
    {
     "data": {
      "text/plain": [
       "15.0"
      ]
     },
     "execution_count": 27,
     "metadata": {},
     "output_type": "execute_result"
    }
   ],
   "source": [
    "average4= df4[\"price\"].median()\n",
    "average4.round(2)"
   ]
  },
  {
   "cell_type": "markdown",
   "metadata": {},
   "source": [
    "## Average price of choclates-bar"
   ]
  },
  {
   "cell_type": "code",
   "execution_count": 28,
   "metadata": {},
   "outputs": [
    {
     "data": {
      "text/html": [
       "<div>\n",
       "<style scoped>\n",
       "    .dataframe tbody tr th:only-of-type {\n",
       "        vertical-align: middle;\n",
       "    }\n",
       "\n",
       "    .dataframe tbody tr th {\n",
       "        vertical-align: top;\n",
       "    }\n",
       "\n",
       "    .dataframe thead th {\n",
       "        text-align: right;\n",
       "    }\n",
       "</style>\n",
       "<table border=\"1\" class=\"dataframe\">\n",
       "  <thead>\n",
       "    <tr style=\"text-align: right;\">\n",
       "      <th></th>\n",
       "      <th>_id</th>\n",
       "      <th>price</th>\n",
       "      <th>title</th>\n",
       "    </tr>\n",
       "  </thead>\n",
       "  <tbody>\n",
       "    <tr>\n",
       "      <th>0</th>\n",
       "      <td>63d5c6c95d4e070cdd661df7</td>\n",
       "      <td>$0.90</td>\n",
       "      <td>Cadbury Flake Chocolate Bar | 30g</td>\n",
       "    </tr>\n",
       "    <tr>\n",
       "      <th>1</th>\n",
       "      <td>63d5c6c95d4e070cdd661df8</td>\n",
       "      <td>$0.90</td>\n",
       "      <td>Cadbury Turkish Delight Chocolate Bar | 55g</td>\n",
       "    </tr>\n",
       "    <tr>\n",
       "      <th>2</th>\n",
       "      <td>63d5c6c95d4e070cdd661df9</td>\n",
       "      <td>$0.90</td>\n",
       "      <td>Cadbury Crunchie Chocolate bar | 50g</td>\n",
       "    </tr>\n",
       "    <tr>\n",
       "      <th>3</th>\n",
       "      <td>63d5c6c95d4e070cdd661dfa</td>\n",
       "      <td>$0.90</td>\n",
       "      <td>Cadbury Bars Chocolate Cherry Ripe | 52g</td>\n",
       "    </tr>\n",
       "    <tr>\n",
       "      <th>4</th>\n",
       "      <td>63d5c6c95d4e070cdd661dfb</td>\n",
       "      <td>$0.90</td>\n",
       "      <td>Cadbury Picnic Chocolate Bar | 46g</td>\n",
       "    </tr>\n",
       "  </tbody>\n",
       "</table>\n",
       "</div>"
      ],
      "text/plain": [
       "                        _id  price  \\\n",
       "0  63d5c6c95d4e070cdd661df7  $0.90   \n",
       "1  63d5c6c95d4e070cdd661df8  $0.90   \n",
       "2  63d5c6c95d4e070cdd661df9  $0.90   \n",
       "3  63d5c6c95d4e070cdd661dfa  $0.90   \n",
       "4  63d5c6c95d4e070cdd661dfb  $0.90   \n",
       "\n",
       "                                         title  \n",
       "0            Cadbury Flake Chocolate Bar | 30g  \n",
       "1  Cadbury Turkish Delight Chocolate Bar | 55g  \n",
       "2         Cadbury Crunchie Chocolate bar | 50g  \n",
       "3     Cadbury Bars Chocolate Cherry Ripe | 52g  \n",
       "4           Cadbury Picnic Chocolate Bar | 46g  "
      ]
     },
     "execution_count": 28,
     "metadata": {},
     "output_type": "execute_result"
    }
   ],
   "source": [
    "file_five = \"choclates.csv\"\n",
    "df5 = pd.read_csv(file_five, encoding=\"ISO-8859-1\")\n",
    "df5.head()"
   ]
  },
  {
   "cell_type": "code",
   "execution_count": 29,
   "metadata": {},
   "outputs": [
    {
     "data": {
      "text/plain": [
       "_id      object\n",
       "price    object\n",
       "title    object\n",
       "dtype: object"
      ]
     },
     "execution_count": 29,
     "metadata": {},
     "output_type": "execute_result"
    }
   ],
   "source": [
    "df5.dtypes"
   ]
  },
  {
   "cell_type": "code",
   "execution_count": 30,
   "metadata": {},
   "outputs": [],
   "source": [
    "df5['price'] = df5['price'].str.replace('$', '')\n",
    "df5['price'] = pd.to_numeric(df5['price'])"
   ]
  },
  {
   "cell_type": "code",
   "execution_count": 31,
   "metadata": {},
   "outputs": [
    {
     "data": {
      "text/plain": [
       "_id       object\n",
       "price    float64\n",
       "title     object\n",
       "dtype: object"
      ]
     },
     "execution_count": 31,
     "metadata": {},
     "output_type": "execute_result"
    }
   ],
   "source": [
    "df5.dtypes"
   ]
  },
  {
   "cell_type": "code",
   "execution_count": 32,
   "metadata": {},
   "outputs": [
    {
     "data": {
      "text/plain": [
       "1.37"
      ]
     },
     "execution_count": 32,
     "metadata": {},
     "output_type": "execute_result"
    }
   ],
   "source": [
    "average5= df5[\"price\"].mean()\n",
    "average5.round(2)"
   ]
  },
  {
   "cell_type": "markdown",
   "metadata": {},
   "source": [
    "## Average price of cofee"
   ]
  },
  {
   "cell_type": "code",
   "execution_count": 33,
   "metadata": {},
   "outputs": [
    {
     "data": {
      "text/html": [
       "<div>\n",
       "<style scoped>\n",
       "    .dataframe tbody tr th:only-of-type {\n",
       "        vertical-align: middle;\n",
       "    }\n",
       "\n",
       "    .dataframe tbody tr th {\n",
       "        vertical-align: top;\n",
       "    }\n",
       "\n",
       "    .dataframe thead th {\n",
       "        text-align: right;\n",
       "    }\n",
       "</style>\n",
       "<table border=\"1\" class=\"dataframe\">\n",
       "  <thead>\n",
       "    <tr style=\"text-align: right;\">\n",
       "      <th></th>\n",
       "      <th>_id</th>\n",
       "      <th>price</th>\n",
       "      <th>title</th>\n",
       "    </tr>\n",
       "  </thead>\n",
       "  <tbody>\n",
       "    <tr>\n",
       "      <th>0</th>\n",
       "      <td>63d598a622f89f2c6d43c475</td>\n",
       "      <td>$3.25</td>\n",
       "      <td>Daley Street Medium/Dark Aluminium Nespresso C...</td>\n",
       "    </tr>\n",
       "    <tr>\n",
       "      <th>1</th>\n",
       "      <td>63d598a622f89f2c6d43c476</td>\n",
       "      <td>$3.25</td>\n",
       "      <td>Daley Street Daley Street Medium Aluminium Nes...</td>\n",
       "    </tr>\n",
       "    <tr>\n",
       "      <th>2</th>\n",
       "      <td>63d598a622f89f2c6d43c477</td>\n",
       "      <td>$3.25</td>\n",
       "      <td>Daley Street Dark Aluminium Nespresso Compatib...</td>\n",
       "    </tr>\n",
       "    <tr>\n",
       "      <th>3</th>\n",
       "      <td>63d598a622f89f2c6d43c478</td>\n",
       "      <td>$3.25</td>\n",
       "      <td>Daley Street Intense Aluminium Nespresso Compa...</td>\n",
       "    </tr>\n",
       "    <tr>\n",
       "      <th>4</th>\n",
       "      <td>63d598a622f89f2c6d43c479</td>\n",
       "      <td>$3.25</td>\n",
       "      <td>Daley Street Dark/Intense Aluminium Nespresso ...</td>\n",
       "    </tr>\n",
       "  </tbody>\n",
       "</table>\n",
       "</div>"
      ],
      "text/plain": [
       "                        _id  price  \\\n",
       "0  63d598a622f89f2c6d43c475  $3.25   \n",
       "1  63d598a622f89f2c6d43c476  $3.25   \n",
       "2  63d598a622f89f2c6d43c477  $3.25   \n",
       "3  63d598a622f89f2c6d43c478  $3.25   \n",
       "4  63d598a622f89f2c6d43c479  $3.25   \n",
       "\n",
       "                                               title  \n",
       "0  Daley Street Medium/Dark Aluminium Nespresso C...  \n",
       "1  Daley Street Daley Street Medium Aluminium Nes...  \n",
       "2  Daley Street Dark Aluminium Nespresso Compatib...  \n",
       "3  Daley Street Intense Aluminium Nespresso Compa...  \n",
       "4  Daley Street Dark/Intense Aluminium Nespresso ...  "
      ]
     },
     "execution_count": 33,
     "metadata": {},
     "output_type": "execute_result"
    }
   ],
   "source": [
    "file_six = \"cofee.csv\"\n",
    "df6 = pd.read_csv(file_six, encoding=\"ISO-8859-1\")\n",
    "df6.head()"
   ]
  },
  {
   "cell_type": "code",
   "execution_count": 34,
   "metadata": {},
   "outputs": [
    {
     "data": {
      "text/plain": [
       "_id      object\n",
       "price    object\n",
       "title    object\n",
       "dtype: object"
      ]
     },
     "execution_count": 34,
     "metadata": {},
     "output_type": "execute_result"
    }
   ],
   "source": [
    "df6.dtypes"
   ]
  },
  {
   "cell_type": "code",
   "execution_count": 35,
   "metadata": {},
   "outputs": [],
   "source": [
    "df6['price'] = df6['price'].str.replace('$', '')\n",
    "df6['price'] = pd.to_numeric(df6['price'])"
   ]
  },
  {
   "cell_type": "code",
   "execution_count": 36,
   "metadata": {},
   "outputs": [
    {
     "data": {
      "text/plain": [
       "_id       object\n",
       "price    float64\n",
       "title     object\n",
       "dtype: object"
      ]
     },
     "execution_count": 36,
     "metadata": {},
     "output_type": "execute_result"
    }
   ],
   "source": [
    "df6.dtypes"
   ]
  },
  {
   "cell_type": "code",
   "execution_count": 37,
   "metadata": {},
   "outputs": [
    {
     "data": {
      "text/plain": [
       "4.56"
      ]
     },
     "execution_count": 37,
     "metadata": {},
     "output_type": "execute_result"
    }
   ],
   "source": [
    "average6= df6[\"price\"].mean()\n",
    "average6.round(2)"
   ]
  },
  {
   "cell_type": "code",
   "execution_count": null,
   "metadata": {},
   "outputs": [],
   "source": []
  }
 ],
 "metadata": {
  "kernelspec": {
   "display_name": "Python 3 (ipykernel)",
   "language": "python",
   "name": "python3"
  },
  "language_info": {
   "codemirror_mode": {
    "name": "ipython",
    "version": 3
   },
   "file_extension": ".py",
   "mimetype": "text/x-python",
   "name": "python",
   "nbconvert_exporter": "python",
   "pygments_lexer": "ipython3",
   "version": "3.7.7"
  },
  "varInspector": {
   "cols": {
    "lenName": 16,
    "lenType": 16,
    "lenVar": 40
   },
   "kernels_config": {
    "python": {
     "delete_cmd_postfix": "",
     "delete_cmd_prefix": "del ",
     "library": "var_list.py",
     "varRefreshCmd": "print(var_dic_list())"
    },
    "r": {
     "delete_cmd_postfix": ") ",
     "delete_cmd_prefix": "rm(",
     "library": "var_list.r",
     "varRefreshCmd": "cat(var_dic_list()) "
    }
   },
   "types_to_exclude": [
    "module",
    "function",
    "builtin_function_or_method",
    "instance",
    "_Feature"
   ],
   "window_display": false
  }
 },
 "nbformat": 4,
 "nbformat_minor": 4
}
