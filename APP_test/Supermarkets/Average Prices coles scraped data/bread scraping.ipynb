{
 "cells": [
  {
   "cell_type": "markdown",
   "metadata": {},
   "source": [
    "## Coles Supermarkets\n",
    "### Scraped data of bread"
   ]
  },
  {
   "cell_type": "code",
   "execution_count": 1,
   "metadata": {
    "jupyter": {
     "outputs_hidden": true
    }
   },
   "outputs": [],
   "source": [
    "# import Dependencies\n",
    "from bs4 import BeautifulSoup\n",
    "import requests\n",
    "import pymongo"
   ]
  },
  {
   "cell_type": "code",
   "execution_count": 2,
   "metadata": {
    "jupyter": {
     "outputs_hidden": true
    }
   },
   "outputs": [],
   "source": [
    "# Initialise PyMongo to work with MongoDBs\n",
    "conn = 'mongodb://localhost:27017'\n",
    "client = pymongo.MongoClient(conn)"
   ]
  },
  {
   "cell_type": "code",
   "execution_count": 3,
   "metadata": {
    "jupyter": {
     "outputs_hidden": true
    }
   },
   "outputs": [],
   "source": [
    "# Define database and collection\n",
    "db = client.supermarket_db\n",
    "collection = db.bread"
   ]
  },
  {
   "cell_type": "code",
   "execution_count": 4,
   "metadata": {
    "jupyter": {
     "outputs_hidden": true
    }
   },
   "outputs": [],
   "source": [
    "# Milk URL of page to be scraped (Ascending order price)\n",
    "url = 'https://www.coles.com.au/search?q=bread&sortBy=priceAscending'\n",
    "\n",
    "# Retrieve page with the requests module\n",
    "response = requests.get(url)\n",
    "# Create BeautifulSoup object; parse with 'lxml'\n",
    "soup = BeautifulSoup(response.text, 'lxml')"
   ]
  },
  {
   "cell_type": "code",
   "execution_count": 5,
   "metadata": {},
   "outputs": [
    {
     "data": {
      "text/plain": [
       "<Response [200]>"
      ]
     },
     "execution_count": 5,
     "metadata": {},
     "output_type": "execute_result"
    }
   ],
   "source": [
    "response"
   ]
  },
  {
   "cell_type": "markdown",
   "metadata": {},
   "source": [
    "\n",
    "  #  Bread"
   ]
  },
  {
   "cell_type": "code",
   "execution_count": 6,
   "metadata": {},
   "outputs": [
    {
     "name": "stdout",
     "output_type": "stream",
     "text": [
      "-------------\n",
      "Coles Cracker Squares | 250g\n",
      "$0.95\n",
      "-------------\n",
      "Coles Cracked Pepper Water Crackers | 125g\n",
      "$0.95\n",
      "-------------\n",
      "Coles Original Water Crackers | 125g\n",
      "$0.95\n",
      "-------------\n",
      "Coles Bakery High Top Half Sandwich Loaf | 320g\n",
      "$1.30\n",
      "-------------\n",
      "Coles Bakery High Top Half Toast Loaf | 320g\n",
      "$1.30\n",
      "-------------\n",
      "Captain's Table Rosemary & Thyme Water Crackers | 125g\n",
      "$1.40\n",
      "-------------\n",
      "Captain's Table Cracked Pepper Water Crackers | 125g\n",
      "$1.40\n",
      "-------------\n",
      "Captain's Table Classic Water Crackers | 125g\n",
      "$1.40\n",
      "-------------\n",
      "Coles Crackers Checkers | 250g\n",
      "$1.50\n",
      "-------------\n",
      "MEB Foods Fresh Pockets White Pita | 250g\n",
      "$1.60\n",
      "-------------\n",
      "MEB Foods Pockets Wholemeal Pita | 250g\n",
      "$1.60\n",
      "-------------\n",
      "Peace Bakery Lebanese Bread White 6 pack | 500g\n",
      "$1.60\n",
      "-------------\n",
      "Peace Bakery Lebanese Bread Wholemeal 6 pack | 500g\n",
      "$1.60\n",
      "-------------\n",
      "Coles Bakery Sesame French Stick  | 1 each\n",
      "$1.65\n",
      "-------------\n",
      "Coles Bakery French Stick | 1 each\n",
      "$1.65\n",
      "-------------\n",
      "Coles Bakery Tiger Baguette Twin Pack | 2 pack\n",
      "$1.65\n",
      "'NoneType' object has no attribute 'text'\n",
      "-------------\n",
      "Coles Bakery Wholemeal Baguette | 1 each\n",
      "$1.65\n",
      "-------------\n",
      "Coles Bakery Banana Bread Slice | 100g\n",
      "$1.75\n",
      "-------------\n",
      "Coles Australian Original Bread Crumb | 220g\n",
      "$1.75\n",
      "-------------\n",
      "Arnott's Multigrain Vitaweat Crackers | 140g\n",
      "$1.75\n",
      "-------------\n",
      "Coles White Bread | 650g\n",
      "$1.90\n",
      "-------------\n",
      "Coles Rosemary Crackers | 170g\n",
      "$1.95\n",
      "-------------\n",
      "Coles Banana Bread Baking Mix | 450g\n",
      "$1.95\n",
      "-------------\n",
      "Ritz Snackz Sour Cream and Onion Crackers | 100g\n",
      "$2.00\n",
      "-------------\n",
      "Ritz Snackz Tasty Cheddar Cheese Crackers  | 100g\n",
      "$2.00\n",
      "-------------\n",
      "Coles Wafer Crackers | 100g\n",
      "$2.00\n",
      "-------------\n",
      "Tuckers Natural Artisan Crackers Seeded | 100g\n",
      "$2.00\n",
      "-------------\n",
      "Simson's Pantry Sweet Chilli Naan 2 Pack | 250g\n",
      "$2.00\n",
      "-------------\n",
      "Ritz Bites Crackers Barbeque | 160g\n",
      "$2.00\n",
      "-------------\n",
      "Coles Garlic Bread Twin Pack | 450g\n",
      "$2.10\n",
      "-------------\n",
      "Coles Bakery Vegemite Scroll | 1 each\n",
      "$2.20\n",
      "-------------\n",
      "Coles Bakery High Fibre Low Gi White Sandwich Loaf | 330g\n",
      "$2.20\n",
      "-------------\n",
      "Coles Bakery High Fibre Low Gi White Toast Loaf | 330g\n",
      "$2.20\n",
      "-------------\n",
      "Coles Soft Wholemeal Sandwich Loaf | 700g\n",
      "$2.20\n",
      "-------------\n",
      "Coles Soft White Toast Loaf | 700g\n",
      "$2.20\n",
      "-------------\n",
      "Coles Soft White Sandwich | 700g\n",
      "$2.20\n",
      "-------------\n",
      "Coles Soft White Wraps 8 pack | 360g\n",
      "$2.20\n",
      "-------------\n",
      "Coles Wholemeal & Grain Soft Wraps 8 Pack | 360g\n",
      "$2.20\n",
      "-------------\n",
      "Coles Bakery High Fibre Low Gi 7 Seeds & Grains Sandwich Bread Loaf | 400g\n",
      "$2.20\n",
      "-------------\n",
      "Coles Bakery High Fibre Low Gi 7 Seeds & Grain Toast Loaf | 400g\n",
      "$2.20\n",
      "-------------\n",
      "Coles Multigrain Dinner Rolls 260g | 6 pack\n",
      "$2.30\n",
      "-------------\n",
      "Coles White Dinner Rolls | 6 pack\n",
      "$2.30\n",
      "-------------\n",
      "Coles Finest By Laurent Traditional Brioche Burger Buns | 2 pack\n",
      "$2.40\n",
      "-------------\n",
      "Rafferty's Garden Vegemite Cheesy Bread Sticks 12+ Months | 30g\n",
      "$2.40\n",
      "-------------\n",
      "Rafferty's Garden Sweet Potato & Carrot Bread Sticks 12+ Months | 30g\n",
      "$2.40\n",
      "-------------\n",
      "Coles Bakery Super Sub Rolls  | 2 pack\n",
      "$2.40\n",
      "-------------\n",
      "Coles Raisin Toast | 560g\n",
      "$2.50\n"
     ]
    }
   ],
   "source": [
    "# Examine the results, then determine element that contains sought info\n",
    "# results are returned as an iterable list\n",
    "Milk_results = soup.find_all('div', class_='product__message-title_area')\n",
    "\n",
    "# Loop through returned results\n",
    "for result in Milk_results:\n",
    "    # Error handling\n",
    "    try:\n",
    "        # Identify and return title of product listing\n",
    "#        \n",
    "        title = result.find('a', class_='product__link').text\n",
    "        # Identify and return link to listing. Square bracket notation to access attributes of an element\n",
    "        price = result.find('span', class_='price__value').text\n",
    "\n",
    "        # Run only if titles, prices per 1 Liter, \n",
    "        if(title and price):\n",
    "            # Print results\n",
    "            print('-------------')\n",
    "            print(title)\n",
    "            print(price)\n",
    "            \n",
    "\n",
    "            # Dictionary to be inserted as a MongoDB document\n",
    "            post = {\n",
    "                'title': title,\n",
    "                'price': price,\n",
    "                \n",
    "            }\n",
    "\n",
    "            collection.insert_one(post)\n",
    "\n",
    "    except Exception as e:\n",
    "        print(e)\n",
    "        \n",
    "        \n",
    "        \n",
    "        \n",
    "    "
   ]
  },
  {
   "cell_type": "code",
   "execution_count": null,
   "metadata": {},
   "outputs": [],
   "source": []
  }
 ],
 "metadata": {
  "kernelspec": {
   "display_name": "Python 3 (ipykernel)",
   "language": "python",
   "name": "python3"
  },
  "language_info": {
   "codemirror_mode": {
    "name": "ipython",
    "version": 3
   },
   "file_extension": ".py",
   "mimetype": "text/x-python",
   "name": "python",
   "nbconvert_exporter": "python",
   "pygments_lexer": "ipython3",
   "version": "3.7.7"
  },
  "varInspector": {
   "cols": {
    "lenName": 16,
    "lenType": 16,
    "lenVar": 40
   },
   "kernels_config": {
    "python": {
     "delete_cmd_postfix": "",
     "delete_cmd_prefix": "del ",
     "library": "var_list.py",
     "varRefreshCmd": "print(var_dic_list())"
    },
    "r": {
     "delete_cmd_postfix": ") ",
     "delete_cmd_prefix": "rm(",
     "library": "var_list.r",
     "varRefreshCmd": "cat(var_dic_list()) "
    }
   },
   "types_to_exclude": [
    "module",
    "function",
    "builtin_function_or_method",
    "instance",
    "_Feature"
   ],
   "window_display": false
  }
 },
 "nbformat": 4,
 "nbformat_minor": 4
}
