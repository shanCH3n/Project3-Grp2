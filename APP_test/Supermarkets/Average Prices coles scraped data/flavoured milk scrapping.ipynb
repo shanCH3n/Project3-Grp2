{
 "cells": [
  {
   "cell_type": "markdown",
   "metadata": {},
   "source": [
    "## Coles Supermarkets\n",
    "### Scraped data of flavoured milk coles 1L"
   ]
  },
  {
   "cell_type": "code",
   "execution_count": 1,
   "metadata": {
    "jupyter": {
     "outputs_hidden": true
    }
   },
   "outputs": [],
   "source": [
    "# import Dependencies\n",
    "from bs4 import BeautifulSoup\n",
    "import requests\n",
    "import pymongo"
   ]
  },
  {
   "cell_type": "code",
   "execution_count": 2,
   "metadata": {
    "jupyter": {
     "outputs_hidden": true
    }
   },
   "outputs": [],
   "source": [
    "# Initialise PyMongo to work with MongoDBs\n",
    "conn = 'mongodb://localhost:27017'\n",
    "client = pymongo.MongoClient(conn)"
   ]
  },
  {
   "cell_type": "code",
   "execution_count": 3,
   "metadata": {
    "jupyter": {
     "outputs_hidden": true
    }
   },
   "outputs": [],
   "source": [
    "# Define database and collection\n",
    "db = client.supermarket_db\n",
    "collection = db.oneLmilk"
   ]
  },
  {
   "cell_type": "code",
   "execution_count": 4,
   "metadata": {
    "jupyter": {
     "outputs_hidden": true
    }
   },
   "outputs": [],
   "source": [
    "# Milk URL of page to be scraped (Ascending order price)\n",
    "url = 'https://www.coles.com.au/browse/dairy-eggs-fridge/milk/milk-flavoured?page=2'\n",
    "\n",
    "# Retrieve page with the requests module\n",
    "response = requests.get(url)\n",
    "# Create BeautifulSoup object; parse with 'lxml'\n",
    "soup = BeautifulSoup(response.text, 'lxml')"
   ]
  },
  {
   "cell_type": "code",
   "execution_count": 5,
   "metadata": {},
   "outputs": [
    {
     "data": {
      "text/plain": [
       "<Response [200]>"
      ]
     },
     "execution_count": 5,
     "metadata": {},
     "output_type": "execute_result"
    }
   ],
   "source": [
    "response"
   ]
  },
  {
   "cell_type": "markdown",
   "metadata": {},
   "source": [
    "\n",
    "  #  Milk"
   ]
  },
  {
   "cell_type": "code",
   "execution_count": 6,
   "metadata": {},
   "outputs": [
    {
     "name": "stdout",
     "output_type": "stream",
     "text": [
      "-------------\n",
      "Boss Vanilla Latte Coffee | 237mL\n",
      "$3.30\n",
      "-------------\n",
      "Dare Double Espresso Flavoured Milk | 500mL\n",
      "$2.90\n",
      "-------------\n",
      "Vitasoy Iced Coffee Soy Milk | 1L\n",
      "$3.00\n",
      "-------------\n",
      "Boss Caramel Coffee | 237mL\n",
      "$3.30\n",
      "-------------\n",
      "Bubble Milk Tea Original With Tapioca Pearls | 350mL\n",
      "$2.00\n",
      "-------------\n",
      "Oak Iced Coffee | 300mL\n",
      "$2.50\n",
      "-------------\n",
      "180 Nutrition Good Sport Chocolate | 350mL\n",
      "$2.90\n",
      "-------------\n",
      "Ice Break Real Coffee Regular Strength Flavoured Milk | 750mL\n",
      "$3.80\n",
      "-------------\n",
      "Dairy Farmers Caramel Flavoured Milk | 500mL\n",
      "$2.90\n",
      "-------------\n",
      "Oak Iced Coffee Flavoured Milk | 2L\n",
      "$5.30\n",
      "-------------\n",
      "Dare Mocha Flavoured Milk | 2L\n",
      "$6.00\n",
      "-------------\n",
      "Coles Good Yums Strawberry Flavoured Milk | 250mL\n",
      "$1.95\n",
      "-------------\n",
      "Vitasoy Iced Coffee Double Espresso | 330mL\n",
      "$2.00\n",
      "-------------\n",
      "Oak Vanilla Malt Flavoured Milk | 300mL\n",
      "$2.50\n",
      "-------------\n",
      "Oak Honeycomb Flavoured Milk | 600mL\n",
      "$3.60\n",
      "-------------\n",
      "Ice Break Oak Mocha Flavoured Milk | 500mL\n",
      "$3.80\n",
      "-------------\n",
      "Oak Chocolate Flavoured Milk | 300mL\n",
      "$2.50\n",
      "-------------\n",
      "Pauls Zymil Lactose Free Chocolate Flavoured Milk | 400mL\n",
      "$3.60\n",
      "-------------\n",
      "First Press Cold Drip 10 Shot Coffee | 500mL\n",
      "$9.00\n",
      "-------------\n",
      "Oak Thickshake Neapolitan Flavoured Milk | 425mL\n",
      "$3.55\n",
      "-------------\n",
      "Dare Triple Espresso No Added Sugar | 500mL\n",
      "$2.90\n",
      "-------------\n",
      "Vitasoy Chocolate Soy Milk | 1L\n",
      "$3.00\n",
      "-------------\n",
      "Ice Break Sugar Ice Coffee | 750mL\n",
      "$3.80\n",
      "-------------\n",
      "Ice Break Regular Strength Real Coffee | 2L\n",
      "$5.80\n",
      "-------------\n",
      "Zooper Dooper Fairy Floss Flavoured Milk | 600mL\n",
      "$2.40\n",
      "-------------\n",
      "Ice Break Extra Shot Real Coffee | 500mL\n",
      "$3.80\n",
      "-------------\n",
      "180 Nutrition Good Sport Strawberry Milk | 350mL\n",
      "$2.90\n",
      "-------------\n",
      "Oak Chocolate Mint Flavoured Milk | 600mL\n",
      "$3.60\n",
      "-------------\n",
      "Chatime Brown Sugar Bubble Tea Can | 310mL\n",
      "$4.00\n",
      "-------------\n",
      "Dairy Farmers Classic Vanilla Slice | 500mL\n",
      "$2.90\n",
      "-------------\n",
      "Hunt & Brew Cold Brew Coffee Mocha | 400mL\n",
      "$4.95\n",
      "-------------\n",
      "Vitasoy Whole Chocolate Almond Milk | 330mL\n",
      "$2.00\n",
      "-------------\n",
      "Zooper Dooper Cola Spider Flavoured Milk | 600mL\n",
      "$2.40\n",
      "-------------\n",
      "Bubble Milk Tea Brown Sugar With Tapioca Pearls | 350mL\n",
      "$3.00\n",
      "-------------\n",
      "Vitasoy Oat Latte | 330mL\n",
      "$2.00\n",
      "-------------\n",
      "Boss Iced Long Black Coffee | 237mL\n",
      "$3.30\n",
      "-------------\n",
      "Cafe Peak Mega Hit Iced Coffee Latte | 240mL\n",
      "$4.00\n",
      "-------------\n",
      "Cafe Peak Mega Hit Iced Long Black Coffee | 240mL\n",
      "$5.00\n",
      "-------------\n",
      "Pauls Bluey Banana Flavoured Milk | 250mL\n",
      "$2.00\n",
      "'NoneType' object has no attribute 'text'\n",
      "-------------\n",
      "Tempo Smooth & Milky Chocolate | 500mL\n",
      "$4.75\n"
     ]
    }
   ],
   "source": [
    "# Examine the results, then determine element that contains sought info\n",
    "# results are returned as an iterable list\n",
    "Milk_results = soup.find_all('div', class_='product__message-title_area')\n",
    "\n",
    "# Loop through returned results\n",
    "for result in Milk_results:\n",
    "    # Error handling\n",
    "    try:\n",
    "        # Identify and return title of product listing\n",
    "#        \n",
    "        title = result.find('a', class_='product__link').text\n",
    "        # Identify and return link to listing. Square bracket notation to access attributes of an element\n",
    "        price = result.find('span', class_='price__value').text\n",
    "\n",
    "        # Run only if titles, prices per 1 Liter, \n",
    "        if(title and price):\n",
    "            # Print results\n",
    "            print('-------------')\n",
    "            print(title)\n",
    "            print(price)\n",
    "            \n",
    "\n",
    "            # Dictionary to be inserted as a MongoDB document\n",
    "            post = {\n",
    "                'title': title,\n",
    "                'price': price,\n",
    "                \n",
    "            }\n",
    "\n",
    "            collection.insert_one(post)\n",
    "\n",
    "    except Exception as e:\n",
    "        print(e)\n",
    "        \n",
    "        \n",
    "        \n",
    "        \n",
    "    "
   ]
  },
  {
   "cell_type": "markdown",
   "metadata": {},
   "source": [
    "# Flavoured milk"
   ]
  },
  {
   "cell_type": "code",
   "execution_count": null,
   "metadata": {},
   "outputs": [],
   "source": []
  }
 ],
 "metadata": {
  "kernelspec": {
   "display_name": "Python 3 (ipykernel)",
   "language": "python",
   "name": "python3"
  },
  "language_info": {
   "codemirror_mode": {
    "name": "ipython",
    "version": 3
   },
   "file_extension": ".py",
   "mimetype": "text/x-python",
   "name": "python",
   "nbconvert_exporter": "python",
   "pygments_lexer": "ipython3",
   "version": "3.7.7"
  },
  "varInspector": {
   "cols": {
    "lenName": 16,
    "lenType": 16,
    "lenVar": 40
   },
   "kernels_config": {
    "python": {
     "delete_cmd_postfix": "",
     "delete_cmd_prefix": "del ",
     "library": "var_list.py",
     "varRefreshCmd": "print(var_dic_list())"
    },
    "r": {
     "delete_cmd_postfix": ") ",
     "delete_cmd_prefix": "rm(",
     "library": "var_list.r",
     "varRefreshCmd": "cat(var_dic_list()) "
    }
   },
   "types_to_exclude": [
    "module",
    "function",
    "builtin_function_or_method",
    "instance",
    "_Feature"
   ],
   "window_display": false
  }
 },
 "nbformat": 4,
 "nbformat_minor": 4
}
