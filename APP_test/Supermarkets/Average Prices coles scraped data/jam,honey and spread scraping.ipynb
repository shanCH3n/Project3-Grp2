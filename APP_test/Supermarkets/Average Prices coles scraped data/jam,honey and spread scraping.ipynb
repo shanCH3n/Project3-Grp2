{
 "cells": [
  {
   "cell_type": "markdown",
   "metadata": {},
   "source": [
    "## Coles Supemakets\n",
    "### Scaped data for Jams, Honey & Spreads"
   ]
  },
  {
   "cell_type": "code",
   "execution_count": 1,
   "metadata": {
    "jupyter": {
     "outputs_hidden": true
    }
   },
   "outputs": [],
   "source": [
    "# import Dependencies\n",
    "from bs4 import BeautifulSoup\n",
    "import requests\n",
    "import pymongo"
   ]
  },
  {
   "cell_type": "code",
   "execution_count": 2,
   "metadata": {
    "jupyter": {
     "outputs_hidden": true
    }
   },
   "outputs": [],
   "source": [
    "# Initialise PyMongo to work with MongoDBs\n",
    "conn = 'mongodb://localhost:27017'\n",
    "client = pymongo.MongoClient(conn)"
   ]
  },
  {
   "cell_type": "code",
   "execution_count": 3,
   "metadata": {
    "jupyter": {
     "outputs_hidden": true
    }
   },
   "outputs": [],
   "source": [
    "# Define database and collection\n",
    "db = client.supermarket_db\n",
    "collection = db.spread"
   ]
  },
  {
   "cell_type": "code",
   "execution_count": 4,
   "metadata": {
    "jupyter": {
     "outputs_hidden": true
    }
   },
   "outputs": [],
   "source": [
    "# Milk URL of page to be scraped (Ascending order price)\n",
    "url = 'https://www.coles.com.au/browse/pantry/jams-honey-spreads'\n",
    "\n",
    "# Retrieve page with the requests module\n",
    "response = requests.get(url)\n",
    "# Create BeautifulSoup object; parse with 'lxml'\n",
    "soup = BeautifulSoup(response.text, 'lxml')"
   ]
  },
  {
   "cell_type": "code",
   "execution_count": 5,
   "metadata": {},
   "outputs": [
    {
     "data": {
      "text/plain": [
       "<Response [200]>"
      ]
     },
     "execution_count": 5,
     "metadata": {},
     "output_type": "execute_result"
    }
   ],
   "source": [
    "response"
   ]
  },
  {
   "cell_type": "markdown",
   "metadata": {},
   "source": [
    "\n",
    "  #  Jams, Honey & Spreads\n"
   ]
  },
  {
   "cell_type": "code",
   "execution_count": 6,
   "metadata": {},
   "outputs": [
    {
     "name": "stdout",
     "output_type": "stream",
     "text": [
      "-------------\n",
      "Nutella Hazelnut Chocolate Spread | 750g\n",
      "$9.75\n",
      "-------------\n",
      "Nutella Hazelnut Chocolate Spread | 400g\n",
      "$5.70\n",
      "-------------\n",
      "Bonne Maman Strawberry Jam | 370g\n",
      "$5.35\n",
      "-------------\n",
      "B Honey Squeeze | 450g\n",
      "$8.50\n",
      "-------------\n",
      "B Honey Squeeze | 300g\n",
      "$5.00\n",
      "-------------\n",
      "99th Monkey Natural Almond Butter | 200g\n",
      "$7.00\n",
      "-------------\n",
      "Bega Peanut Butter Protein Smooth | 470g\n",
      "$3.20\n",
      "-------------\n",
      "Capilano Clear Honey Twist & Squeeze | 375g\n",
      "$7.20\n",
      "-------------\n",
      "Barker's Raspberry Jam | 455g\n",
      "$6.30\n",
      "-------------\n",
      "Bonne Maman Raspberry Jam | 370g\n",
      "$6.70\n",
      "-------------\n",
      "Bonne Maman Orange Marmalade | 370g\n",
      "$5.35\n",
      "-------------\n",
      "Cottee's Strawberry Jam | 500g\n",
      "$3.00\n",
      "-------------\n",
      "Capilano Pure Honey Squeeze | 500g\n",
      "$8.60\n",
      "-------------\n",
      "Bega Smooth Peanut Butter | 470g\n",
      "$3.20\n",
      "-------------\n",
      "Bega Smooth Peanut Butter | 780g\n",
      "$7.50\n",
      "-------------\n",
      "Vegemite Spread | 220g\n",
      "$4.70\n",
      "-------------\n",
      "Capilano Pure Honey Squeeze | 340g\n",
      "$5.25\n",
      "-------------\n",
      "Vegemite Spread | 150g\n",
      "$3.80\n",
      "-------------\n",
      "Vegemite Spread | 380g\n",
      "$5.60\n",
      "-------------\n",
      "The Honey Collective Co Pure Honey Twist & Squeeze | 375g\n",
      "$4.40\n",
      "-------------\n",
      "Vegemite 40% Salt Reduced | 235g\n",
      "$5.20\n",
      "-------------\n",
      "Bega Peanut Butter Crunchy | 780g\n",
      "$7.50\n",
      "-------------\n",
      "St Dalfour Strawberry Spread | 284g\n",
      "$5.70\n",
      "-------------\n",
      "Nutella Hazelnut Spread With Cocoa | 1kg\n",
      "$11.00\n",
      "-------------\n",
      "Bega Crunchy Peanut Butter | 470g\n",
      "$3.20\n",
      "-------------\n",
      "Bega Simply Nuts Smooth Peanut Butter | 325g\n",
      "$5.50\n",
      "-------------\n",
      "St Dalfour Red Raspberry Spread | 284g\n",
      "$5.70\n",
      "-------------\n",
      "Coles Jam Strawberry | 480g\n",
      "$2.00\n",
      "-------------\n",
      "Capilano Manuka Dark & Aromatic Honey | 340g\n",
      "$8.50\n",
      "-------------\n",
      "Coles Smooth Peanut Butter | 500g\n",
      "$3.50\n",
      "-------------\n",
      "Bega Peanut Butter Smooth | 375g\n",
      "$5.40\n",
      "-------------\n",
      "Mayver's Smooth Natural Peanut Butter | 375g\n",
      "$5.80\n",
      "-------------\n",
      "Nutella Hazelnut Chocolate Spread | 220g\n",
      "$4.10\n",
      "-------------\n",
      "Vegemite Spread | 560g\n",
      "$9.00\n",
      "-------------\n",
      "Coles Jam Raspberry | 480g\n",
      "$2.00\n",
      "-------------\n",
      "Beerenberg Australian Strawberry Jam | 300g\n",
      "$4.50\n",
      "-------------\n",
      "St Dalfour Thick Apricot Spread | 284g\n",
      "$5.70\n",
      "-------------\n",
      "Bega Smooth Peanut Butter | 325g\n",
      "$4.40\n",
      "-------------\n",
      "St Dalfour Wild Blueberry Spread | 284g\n",
      "$5.70\n",
      "-------------\n",
      "Coles Hazelnut Smooth Spread | 400g\n",
      "$2.50\n",
      "-------------\n",
      "St Dalfour Orange Marmalade | 284g\n",
      "$5.70\n",
      "-------------\n",
      "Cottee's Raspberry Jam | 500g\n",
      "$3.00\n",
      "-------------\n",
      "Mayver's Crunchy Natural Peanut Butter | 375g\n",
      "$5.80\n",
      "-------------\n",
      "Bonne Maman Apricot Jam | 370g\n",
      "$5.35\n",
      "-------------\n",
      "Coles Pure Australian Honey Squeeze | 375g\n",
      "$5.50\n",
      "-------------\n",
      "Bega Original Cream Cheese Spread | 250g\n",
      "$3.50\n",
      "-------------\n",
      "Sanitarium Natural Smooth Peanut Butter Spread | 375g\n",
      "$3.50\n",
      "-------------\n",
      "Bega Peanut Butter Smooth | 200g\n",
      "$3.50\n",
      "-------------\n",
      "Lotus Biscoff Spread | 400g\n",
      "$5.00\n",
      "-------------\n",
      "Bega Crunchy Peanut Butter | 375g\n",
      "$5.40\n",
      "-------------\n",
      "Bega Simply Nuts Crunchy Peanut Butter | 325g\n",
      "$5.50\n",
      "-------------\n",
      "Mayver's Natural Peanut Butter High Protein | 375g\n",
      "$6.50\n",
      "-------------\n",
      "Mayver's Smooth Peanut Butter | 750g\n",
      "$9.80\n",
      "-------------\n",
      "Coles Cream Cheese Spread | 245g\n",
      "$2.90\n"
     ]
    }
   ],
   "source": [
    "# Examine the results, then determine element that contains sought info\n",
    "# results are returned as an iterable list\n",
    "Milk_results = soup.find_all('div', class_='product__message-title_area')\n",
    "\n",
    "# Loop through returned results\n",
    "for result in Milk_results:\n",
    "    # Error handling\n",
    "    try:\n",
    "        # Identify and return title of product listing\n",
    "#        \n",
    "        title = result.find('a', class_='product__link').text\n",
    "        # Identify and return link to listing. Square bracket notation to access attributes of an element\n",
    "        price = result.find('span', class_='price__value').text\n",
    "\n",
    "        # Run only if titles, prices per 1 Liter, \n",
    "        if(title and price):\n",
    "            # Print results\n",
    "            print('-------------')\n",
    "            print(title)\n",
    "            print(price)\n",
    "            \n",
    "\n",
    "            # Dictionary to be inserted as a MongoDB document\n",
    "            post = {\n",
    "                'title': title,\n",
    "                'price': price,\n",
    "                \n",
    "            }\n",
    "\n",
    "            collection.insert_one(post)\n",
    "\n",
    "    except Exception as e:\n",
    "        print(e)\n",
    "        \n",
    "        \n",
    "        \n",
    "        \n",
    "    "
   ]
  },
  {
   "cell_type": "code",
   "execution_count": null,
   "metadata": {},
   "outputs": [],
   "source": []
  }
 ],
 "metadata": {
  "kernelspec": {
   "display_name": "Python 3 (ipykernel)",
   "language": "python",
   "name": "python3"
  },
  "language_info": {
   "codemirror_mode": {
    "name": "ipython",
    "version": 3
   },
   "file_extension": ".py",
   "mimetype": "text/x-python",
   "name": "python",
   "nbconvert_exporter": "python",
   "pygments_lexer": "ipython3",
   "version": "3.7.7"
  },
  "varInspector": {
   "cols": {
    "lenName": 16,
    "lenType": 16,
    "lenVar": 40
   },
   "kernels_config": {
    "python": {
     "delete_cmd_postfix": "",
     "delete_cmd_prefix": "del ",
     "library": "var_list.py",
     "varRefreshCmd": "print(var_dic_list())"
    },
    "r": {
     "delete_cmd_postfix": ") ",
     "delete_cmd_prefix": "rm(",
     "library": "var_list.r",
     "varRefreshCmd": "cat(var_dic_list()) "
    }
   },
   "types_to_exclude": [
    "module",
    "function",
    "builtin_function_or_method",
    "instance",
    "_Feature"
   ],
   "window_display": false
  }
 },
 "nbformat": 4,
 "nbformat_minor": 4
}
