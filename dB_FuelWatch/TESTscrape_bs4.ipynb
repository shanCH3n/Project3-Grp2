{
 "cells": [
  {
   "cell_type": "code",
   "execution_count": 1,
   "id": "d70c6d8b",
   "metadata": {},
   "outputs": [],
   "source": [
    "from splinter import Browser\n",
    "from bs4 import BeautifulSoup as bs\n",
    "import pandas as pd\n",
    "import numpy as np\n",
    "import time\n",
    "from webdriver_manager.chrome import ChromeDriverManager"
   ]
  },
  {
   "cell_type": "code",
   "execution_count": 2,
   "id": "8b327d21",
   "metadata": {},
   "outputs": [],
   "source": [
    "executable_path = {'executable_path': ChromeDriverManager().install()}\n",
    "browser = Browser('chrome', **executable_path, headless=False)"
   ]
  },
  {
   "cell_type": "code",
   "execution_count": 3,
   "id": "ae094c8d",
   "metadata": {},
   "outputs": [],
   "source": [
    "url = \"https://www.fuelwatch.wa.gov.au/fuelwatch/fuelWatchRSS?\"\n",
    "browser.visit(url)"
   ]
  },
  {
   "cell_type": "code",
   "execution_count": 4,
   "id": "4165daba",
   "metadata": {},
   "outputs": [],
   "source": [
    "time.sleep(1)"
   ]
  },
  {
   "cell_type": "code",
   "execution_count": 6,
   "id": "03beda07",
   "metadata": {},
   "outputs": [],
   "source": [
    "html = browser.html\n",
    "soup = bs(html, \"html.parser\")"
   ]
  },
  {
   "cell_type": "code",
   "execution_count": 7,
   "id": "441608a5",
   "metadata": {},
   "outputs": [],
   "source": [
    "# folder3 to folder416 contains all the data for each petrol station\n",
    "station1 = soup.find('div', id='folder3')"
   ]
  },
  {
   "cell_type": "code",
   "execution_count": 13,
   "id": "7e2f9c70",
   "metadata": {},
   "outputs": [
    {
     "name": "stdout",
     "output_type": "stream",
     "text": [
      "<div class=\"folder\" id=\"folder3\">\n",
      " <div class=\"line\">\n",
      "  <span class=\"folder-button fold\">\n",
      "  </span>\n",
      "  <span class=\"html-tag\">\n",
      "   &lt;item&gt;\n",
      "  </span>\n",
      " </div>\n",
      " <div class=\"opened\">\n",
      "  <div class=\"line\">\n",
      "   <span class=\"html-tag\">\n",
      "    &lt;title&gt;\n",
      "   </span>\n",
      "   <span>\n",
      "    153.9: Shell High Wycombe\n",
      "   </span>\n",
      "   <span class=\"html-tag\">\n",
      "    &lt;/title&gt;\n",
      "   </span>\n",
      "  </div>\n",
      "  <div class=\"line\">\n",
      "   <span class=\"html-tag\">\n",
      "    &lt;description&gt;\n",
      "   </span>\n",
      "   <span>\n",
      "    Address: 1100 Abernethy Rd, HIGH WYCOMBE, Phone: (08) 6500 3227, Site features:  ATM Air Bottled AdBlue Bottled Gas EFTPOS Fuel Cards Ice Pumped AdBlue Toilets Trailer Hire Truck Friendly Water, Open 24 hours\n",
      "   </span>\n",
      "   <span class=\"html-tag\">\n",
      "    &lt;/description&gt;\n",
      "   </span>\n",
      "  </div>\n",
      "  <div class=\"line\">\n",
      "   <span class=\"html-tag\">\n",
      "    &lt;brand&gt;\n",
      "   </span>\n",
      "   <span>\n",
      "    Shell\n",
      "   </span>\n",
      "   <span class=\"html-tag\">\n",
      "    &lt;/brand&gt;\n",
      "   </span>\n",
      "  </div>\n",
      "  <div class=\"line\">\n",
      "   <span class=\"html-tag\">\n",
      "    &lt;date&gt;\n",
      "   </span>\n",
      "   <span>\n",
      "    2023-01-22\n",
      "   </span>\n",
      "   <span class=\"html-tag\">\n",
      "    &lt;/date&gt;\n",
      "   </span>\n",
      "  </div>\n",
      "  <div class=\"line\">\n",
      "   <span class=\"html-tag\">\n",
      "    &lt;price&gt;\n",
      "   </span>\n",
      "   <span>\n",
      "    153.9\n",
      "   </span>\n",
      "   <span class=\"html-tag\">\n",
      "    &lt;/price&gt;\n",
      "   </span>\n",
      "  </div>\n",
      "  <div class=\"line\">\n",
      "   <span class=\"html-tag\">\n",
      "    &lt;trading-name&gt;\n",
      "   </span>\n",
      "   <span>\n",
      "    Shell High Wycombe\n",
      "   </span>\n",
      "   <span class=\"html-tag\">\n",
      "    &lt;/trading-name&gt;\n",
      "   </span>\n",
      "  </div>\n",
      "  <div class=\"line\">\n",
      "   <span class=\"html-tag\">\n",
      "    &lt;location&gt;\n",
      "   </span>\n",
      "   <span>\n",
      "    HIGH WYCOMBE\n",
      "   </span>\n",
      "   <span class=\"html-tag\">\n",
      "    &lt;/location&gt;\n",
      "   </span>\n",
      "  </div>\n",
      "  <div class=\"line\">\n",
      "   <span class=\"html-tag\">\n",
      "    &lt;address&gt;\n",
      "   </span>\n",
      "   <span>\n",
      "    1100 Abernethy Rd\n",
      "   </span>\n",
      "   <span class=\"html-tag\">\n",
      "    &lt;/address&gt;\n",
      "   </span>\n",
      "  </div>\n",
      "  <div class=\"line\">\n",
      "   <span class=\"html-tag\">\n",
      "    &lt;phone&gt;\n",
      "   </span>\n",
      "   <span>\n",
      "    (08) 6500 3227\n",
      "   </span>\n",
      "   <span class=\"html-tag\">\n",
      "    &lt;/phone&gt;\n",
      "   </span>\n",
      "  </div>\n",
      "  <div class=\"line\">\n",
      "   <span class=\"html-tag\">\n",
      "    &lt;latitude&gt;\n",
      "   </span>\n",
      "   <span>\n",
      "    -31.938206\n",
      "   </span>\n",
      "   <span class=\"html-tag\">\n",
      "    &lt;/latitude&gt;\n",
      "   </span>\n",
      "  </div>\n",
      "  <div class=\"line\">\n",
      "   <span class=\"html-tag\">\n",
      "    &lt;longitude&gt;\n",
      "   </span>\n",
      "   <span>\n",
      "    115.992146\n",
      "   </span>\n",
      "   <span class=\"html-tag\">\n",
      "    &lt;/longitude&gt;\n",
      "   </span>\n",
      "  </div>\n",
      "  <div class=\"line\">\n",
      "   <span class=\"html-tag\">\n",
      "    &lt;site-features&gt;\n",
      "   </span>\n",
      "   <span>\n",
      "    ATM Air Bottled AdBlue Bottled Gas EFTPOS Fuel Cards Ice Pumped AdBlue Toilets Trailer Hire Truck Friendly Water, Open 24 hours\n",
      "   </span>\n",
      "   <span class=\"html-tag\">\n",
      "    &lt;/site-features&gt;\n",
      "   </span>\n",
      "  </div>\n",
      " </div>\n",
      " <span class=\"folded hidden\">\n",
      "  ...\n",
      " </span>\n",
      " <div class=\"line\">\n",
      "  <span class=\"html-tag\">\n",
      "   &lt;/item&gt;\n",
      "  </span>\n",
      " </div>\n",
      "</div>\n",
      "\n"
     ]
    }
   ],
   "source": [
    "print(station1.prettify())"
   ]
  },
  {
   "cell_type": "markdown",
   "id": "293c00be",
   "metadata": {},
   "source": [
    "# From here text code to extract data from 1 station"
   ]
  },
  {
   "cell_type": "code",
   "execution_count": 17,
   "id": "d0785331",
   "metadata": {},
   "outputs": [],
   "source": [
    "contents = station1.find_all(\"div\", class_=\"opened\")"
   ]
  },
  {
   "cell_type": "code",
   "execution_count": 18,
   "id": "de9aa093",
   "metadata": {},
   "outputs": [
    {
     "name": "stdout",
     "output_type": "stream",
     "text": [
      "[<div class=\"opened\"><div class=\"line\"><span class=\"html-tag\">&lt;title&gt;</span><span>153.9: Shell High Wycombe</span><span class=\"html-tag\">&lt;/title&gt;</span></div><div class=\"line\"><span class=\"html-tag\">&lt;description&gt;</span><span>Address: 1100 Abernethy Rd, HIGH WYCOMBE, Phone: (08) 6500 3227, Site features:  ATM Air Bottled AdBlue Bottled Gas EFTPOS Fuel Cards Ice Pumped AdBlue Toilets Trailer Hire Truck Friendly Water, Open 24 hours</span><span class=\"html-tag\">&lt;/description&gt;</span></div><div class=\"line\"><span class=\"html-tag\">&lt;brand&gt;</span><span>Shell</span><span class=\"html-tag\">&lt;/brand&gt;</span></div><div class=\"line\"><span class=\"html-tag\">&lt;date&gt;</span><span>2023-01-22</span><span class=\"html-tag\">&lt;/date&gt;</span></div><div class=\"line\"><span class=\"html-tag\">&lt;price&gt;</span><span>153.9</span><span class=\"html-tag\">&lt;/price&gt;</span></div><div class=\"line\"><span class=\"html-tag\">&lt;trading-name&gt;</span><span>Shell High Wycombe</span><span class=\"html-tag\">&lt;/trading-name&gt;</span></div><div class=\"line\"><span class=\"html-tag\">&lt;location&gt;</span><span>HIGH WYCOMBE</span><span class=\"html-tag\">&lt;/location&gt;</span></div><div class=\"line\"><span class=\"html-tag\">&lt;address&gt;</span><span>1100 Abernethy Rd</span><span class=\"html-tag\">&lt;/address&gt;</span></div><div class=\"line\"><span class=\"html-tag\">&lt;phone&gt;</span><span>(08) 6500 3227</span><span class=\"html-tag\">&lt;/phone&gt;</span></div><div class=\"line\"><span class=\"html-tag\">&lt;latitude&gt;</span><span>-31.938206</span><span class=\"html-tag\">&lt;/latitude&gt;</span></div><div class=\"line\"><span class=\"html-tag\">&lt;longitude&gt;</span><span>115.992146</span><span class=\"html-tag\">&lt;/longitude&gt;</span></div><div class=\"line\"><span class=\"html-tag\">&lt;site-features&gt;</span><span> ATM Air Bottled AdBlue Bottled Gas EFTPOS Fuel Cards Ice Pumped AdBlue Toilets Trailer Hire Truck Friendly Water, Open 24 hours</span><span class=\"html-tag\">&lt;/site-features&gt;</span></div></div>]\n"
     ]
    }
   ],
   "source": [
    "print(contents)"
   ]
  },
  {
   "cell_type": "code",
   "execution_count": null,
   "id": "788fc720",
   "metadata": {},
   "outputs": [],
   "source": []
  }
 ],
 "metadata": {
  "kernelspec": {
   "display_name": "Python [conda env:PythonData] *",
   "language": "python",
   "name": "conda-env-PythonData-py"
  },
  "language_info": {
   "codemirror_mode": {
    "name": "ipython",
    "version": 3
   },
   "file_extension": ".py",
   "mimetype": "text/x-python",
   "name": "python",
   "nbconvert_exporter": "python",
   "pygments_lexer": "ipython3",
   "version": "3.7.7"
  }
 },
 "nbformat": 4,
 "nbformat_minor": 5
}
