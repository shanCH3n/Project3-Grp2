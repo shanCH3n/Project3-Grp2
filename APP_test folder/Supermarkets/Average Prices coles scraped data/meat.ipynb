{
 "cells": [
  {
   "cell_type": "code",
   "execution_count": null,
   "metadata": {},
   "outputs": [],
   "source": []
  },
  {
   "cell_type": "markdown",
   "metadata": {},
   "source": [
    "## Coles Supermarkets\n",
    "### Scraped data of meat(Lamb)"
   ]
  },
  {
   "cell_type": "code",
   "execution_count": 1,
   "metadata": {
    "jupyter": {
     "outputs_hidden": true
    }
   },
   "outputs": [],
   "source": [
    "# import Dependencies\n",
    "from bs4 import BeautifulSoup\n",
    "import requests\n",
    "import pymongo"
   ]
  },
  {
   "cell_type": "code",
   "execution_count": 2,
   "metadata": {
    "jupyter": {
     "outputs_hidden": true
    }
   },
   "outputs": [],
   "source": [
    "# Initialise PyMongo to work with MongoDBs\n",
    "conn = 'mongodb://localhost:27017'\n",
    "client = pymongo.MongoClient(conn)"
   ]
  },
  {
   "cell_type": "code",
   "execution_count": 3,
   "metadata": {
    "jupyter": {
     "outputs_hidden": true
    }
   },
   "outputs": [],
   "source": [
    "# Define database and collection\n",
    "db = client.supermarket_db\n",
    "collection = db.meat"
   ]
  },
  {
   "cell_type": "code",
   "execution_count": 6,
   "metadata": {
    "jupyter": {
     "outputs_hidden": true
    }
   },
   "outputs": [],
   "source": [
    "# Milk URL of page to be scraped (Ascending order price)\n",
    "url = 'https://www.coles.com.au/browse/meat-seafood/lamb?sortBy=priceAscending'\n",
    "\n",
    "# Retrieve page with the requests module\n",
    "response = requests.get(url)\n",
    "# Create BeautifulSoup object; parse with 'lxml'\n",
    "soup = BeautifulSoup(response.text, 'lxml')"
   ]
  },
  {
   "cell_type": "code",
   "execution_count": 7,
   "metadata": {},
   "outputs": [
    {
     "data": {
      "text/plain": [
       "<Response [200]>"
      ]
     },
     "execution_count": 7,
     "metadata": {},
     "output_type": "execute_result"
    }
   ],
   "source": [
    "response"
   ]
  },
  {
   "cell_type": "markdown",
   "metadata": {},
   "source": [
    "\n",
    "  #  lamb"
   ]
  },
  {
   "cell_type": "code",
   "execution_count": 9,
   "metadata": {},
   "outputs": [
    {
     "name": "stdout",
     "output_type": "stream",
     "text": [
      "-------------\n",
      "Coles Lamb Mini Rump Roast In Red Wine Jus | approx. 500g\n",
      "$6.25\n",
      "-------------\n",
      "Coles Lamb Loin Chops With Sea Salt And Rosemary | approx. 300g\n",
      "$6.72\n",
      "-------------\n",
      "Coles Lamb Meat Bones | approx. 991g\n",
      "$6.94\n",
      "-------------\n",
      "Coles Lamb Meat Bones | approx. 1.1kg\n",
      "$7.70\n",
      "-------------\n",
      "Coles Rump Steak 2 Pack | 215g\n",
      "$7.50\n",
      "-------------\n",
      "Coles Lamb Leg Steak With Middle Eastern Rub 2 Pack | 210g\n",
      "$7.50\n",
      "-------------\n",
      "Coles Lamb Leg Steak 2 Pack | 215g\n",
      "$7.50\n",
      "-------------\n",
      "Coles Butcher Lamb Forequarter Chops | approx. 500g\n",
      "$7.50\n",
      "-------------\n",
      "Coles Lamb Mince | 500g\n",
      "$7.50\n",
      "-------------\n",
      "Coles Lamb Fry | approx. 900g\n",
      "$7.65\n",
      "-------------\n",
      "Coles Lamb Hearts | approx. 530g\n",
      "$4.77\n",
      "-------------\n",
      "Coles Lamb Diced | 450g\n",
      "$10.00\n",
      "-------------\n",
      "Coles Butcher Extra Trim Lamb Cutlets | approx. 300g\n",
      "$11.40\n",
      "-------------\n",
      "Coles Lamb Shoulder Roast Boneless | approx. 500g\n",
      "$11.60\n",
      "-------------\n",
      "Coles Lamb Kidneys | approx. 350g\n",
      "$4.55\n",
      "-------------\n",
      "Coles Lamb Shoulder Roast On The Bone | approx. 2.2kg\n",
      "$30.80\n",
      "-------------\n",
      "Coles Lamb Shanks 2 pack | approx. 775g each\n",
      "$11.24\n",
      "-------------\n",
      "Coles Lamb Short Ribs With Sweet & Sticky BBQ Marinade | 750g\n",
      "$15.00\n",
      "-------------\n",
      "Coles Lamb Whole Lamb Leg Roast | approx. 2.8kg\n",
      "$42.00\n",
      "-------------\n",
      "Coles Lamb Leg Roast Half | approx. 1.74kg\n",
      "$26.10\n",
      "-------------\n",
      "Coles Lamb Noisette Loin Roast Wrapped In Prosciutto | approx. 0.9Kg\n",
      "$15.75\n",
      "-------------\n",
      "Coles Grill Lamb Ribs In A Sticky BBQ Rub | 750g\n",
      "$16.50\n",
      "-------------\n",
      "Coles Butcher Lamb Forequarter Chops | approx. 1.177kg\n",
      "$17.66\n",
      "-------------\n",
      "Coles Lamb Leg Butterflied | approx. 1.1kg\n",
      "$22.00\n",
      "-------------\n",
      "Coles Butcher Lamb Leg Roast Boneless | approx. 1.08kg\n",
      "$21.60\n",
      "-------------\n",
      "Coles Lamb Boneless Shank Meat | approx. 700g\n",
      "$15.40\n",
      "-------------\n",
      "Coles Lamb Boneless Shoulder Roast | approx. 1.3kg\n",
      "$28.60\n",
      "-------------\n",
      "Coles Lamb Boneless Leg Roast Small | approx. 490g\n",
      "$11.27\n",
      "-------------\n",
      "Coles Butcher Lamb Loin Chops | approx. 905g\n",
      "$20.82\n",
      "-------------\n",
      "Coles Lamb Shoulder Butterflied With Spiced Marinade | approx. 800g\n",
      "$19.20\n",
      "-------------\n",
      "Coles Lamb Leg Butterflied With Pomegranate And Rosemary | approx. 1.2Kg\n",
      "$28.80\n",
      "-------------\n",
      "Coles Lamb Shoulder Butterflied With Smokey Marinade | approx. 800g\n",
      "$19.20\n",
      "-------------\n",
      "Coles Lamb Leg Butterflied With Rosemary & Garlic Marinade | approx. 1kg\n",
      "$24.00\n",
      "-------------\n",
      "Coles Lamb Shoulder Boneless Mini Roast 2 pack | approx. 800g\n",
      "$20.00\n",
      "-------------\n",
      "Coles Lamb Boneless Marinated Shoulder With Greek Style Rub | approx. 1kg\n",
      "$25.00\n",
      "-------------\n",
      "Coles Butcher Lamb Loin Chops | approx. 500g\n",
      "$14.00\n",
      "-------------\n",
      "Swift Lamb Cutlets Cap On | approx. 400g\n",
      "$11.60\n",
      "-------------\n",
      "Coles Lamb Mint & Rosemary Rump Steak | approx. 400g each\n",
      "$12.00\n",
      "-------------\n",
      "Coles Graze Lamb Shoulder Roast Boneless | approx. 530g\n",
      "$15.90\n",
      "-------------\n",
      "Coles Lamb Rump Roast | approx. 500g\n",
      "$16.25\n",
      "-------------\n",
      "Meat Servery Lamb Rack Rack | approx. 1kg\n",
      "$33.00\n",
      "-------------\n",
      "Coles Lamb Rack Roast | approx. 900g\n",
      "$31.50\n",
      "-------------\n",
      "Coles Lamb Cutlets | approx. 320g\n",
      "$13.76\n",
      "-------------\n",
      "Coles Bulk Lamb Cutlets Rr 11x9 | approx. 775g\n",
      "$33.33\n",
      "-------------\n",
      "Coles Lamb Backstrap | approx. 248g\n",
      "$11.41\n",
      "-------------\n",
      "Coles Lamb Rack Roast Frenched Extra Trim | approx. 500g\n",
      "$23.00\n",
      "-------------\n",
      "Coles Lamb Fillet | approx. 281g\n",
      "$13.77\n"
     ]
    }
   ],
   "source": [
    "# Examine the results, then determine element that contains sought info\n",
    "# results are returned as an iterable list\n",
    "results = soup.find_all('div', class_='product__message-title_area')\n",
    "\n",
    "# Loop through returned results\n",
    "for result in results:\n",
    "    # Error handling\n",
    "    try:\n",
    "        # Identify and return title of product listing\n",
    "#        \n",
    "        title = result.find('a', class_='product__link').text\n",
    "        # Identify and return link to listing. Square bracket notation to access attributes of an element\n",
    "        price = result.find('span', class_='price__value').text\n",
    "\n",
    "        # Run only if titles, prices per 1 Liter, \n",
    "        if(title and price):\n",
    "            # Print results\n",
    "            print('-------------')\n",
    "            print(title)\n",
    "            print(price)\n",
    "            \n",
    "\n",
    "            # Dictionary to be inserted as a MongoDB document\n",
    "            post = {\n",
    "                'title': title,\n",
    "                'price': price,\n",
    "                \n",
    "            }\n",
    "\n",
    "            collection.insert_one(post)\n",
    "\n",
    "    except Exception as e:\n",
    "        print(e)\n",
    "        \n",
    "        \n",
    "        \n",
    "        \n",
    "    "
   ]
  },
  {
   "cell_type": "code",
   "execution_count": null,
   "metadata": {},
   "outputs": [],
   "source": []
  }
 ],
 "metadata": {
  "kernelspec": {
   "display_name": "Python 3 (ipykernel)",
   "language": "python",
   "name": "python3"
  },
  "language_info": {
   "codemirror_mode": {
    "name": "ipython",
    "version": 3
   },
   "file_extension": ".py",
   "mimetype": "text/x-python",
   "name": "python",
   "nbconvert_exporter": "python",
   "pygments_lexer": "ipython3",
   "version": "3.7.7"
  },
  "varInspector": {
   "cols": {
    "lenName": 16,
    "lenType": 16,
    "lenVar": 40
   },
   "kernels_config": {
    "python": {
     "delete_cmd_postfix": "",
     "delete_cmd_prefix": "del ",
     "library": "var_list.py",
     "varRefreshCmd": "print(var_dic_list())"
    },
    "r": {
     "delete_cmd_postfix": ") ",
     "delete_cmd_prefix": "rm(",
     "library": "var_list.r",
     "varRefreshCmd": "cat(var_dic_list()) "
    }
   },
   "types_to_exclude": [
    "module",
    "function",
    "builtin_function_or_method",
    "instance",
    "_Feature"
   ],
   "window_display": false
  }
 },
 "nbformat": 4,
 "nbformat_minor": 4
}
