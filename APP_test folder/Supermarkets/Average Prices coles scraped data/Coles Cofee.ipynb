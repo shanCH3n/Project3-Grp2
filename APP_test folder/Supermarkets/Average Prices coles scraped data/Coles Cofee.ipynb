{
 "cells": [
  {
   "cell_type": "code",
   "execution_count": 1,
   "metadata": {
    "jupyter": {
     "outputs_hidden": true
    }
   },
   "outputs": [],
   "source": [
    "# import Dependencies\n",
    "from bs4 import BeautifulSoup\n",
    "import requests\n",
    "import pymongo"
   ]
  },
  {
   "cell_type": "code",
   "execution_count": 2,
   "metadata": {
    "jupyter": {
     "outputs_hidden": true
    }
   },
   "outputs": [],
   "source": [
    "# Initialise PyMongo to work with MongoDBs\n",
    "conn = 'mongodb://localhost:27017'\n",
    "client = pymongo.MongoClient(conn)"
   ]
  },
  {
   "cell_type": "code",
   "execution_count": 3,
   "metadata": {
    "jupyter": {
     "outputs_hidden": true
    }
   },
   "outputs": [],
   "source": [
    "# Define database and collection\n",
    "db = client.coles1_db\n",
    "collection = db.cofee"
   ]
  },
  {
   "cell_type": "code",
   "execution_count": 4,
   "metadata": {
    "jupyter": {
     "outputs_hidden": true
    }
   },
   "outputs": [],
   "source": [
    "# Milk URL of page to be scraped (Ascending order price)\n",
    "url = 'https://www.coles.com.au/browse/pantry/coffee/capsules?sortBy=priceAscending'\n",
    "\n",
    "# Retrieve page with the requests module\n",
    "response = requests.get(url)\n",
    "# Create BeautifulSoup object; parse with 'lxml'\n",
    "soup = BeautifulSoup(response.text, 'lxml')"
   ]
  },
  {
   "cell_type": "code",
   "execution_count": 5,
   "metadata": {},
   "outputs": [
    {
     "data": {
      "text/plain": [
       "<Response [200]>"
      ]
     },
     "execution_count": 5,
     "metadata": {},
     "output_type": "execute_result"
    }
   ],
   "source": [
    "response"
   ]
  },
  {
   "cell_type": "code",
   "execution_count": 6,
   "metadata": {},
   "outputs": [
    {
     "name": "stdout",
     "output_type": "stream",
     "text": [
      "-------------\n",
      "Daley Street Medium/Dark Aluminium Nespresso Compatible Coffee Capsules | 10 pack\n",
      "$3.25\n",
      "-------------\n",
      "Daley Street Daley Street Medium Aluminium Nespresso Compatible Coffee Capsules | 10 pack\n",
      "$3.25\n",
      "-------------\n",
      "Daley Street Dark Aluminium Nespresso Compatible Coffee Capsules | 10 pack\n",
      "$3.25\n",
      "-------------\n",
      "Daley Street Intense Aluminium Nespresso Compatible Coffee Capsules | 10 pack\n",
      "$3.25\n",
      "-------------\n",
      "Daley Street Dark/Intense Aluminium Nespresso Compatible Coffee Capsules | 10 pack\n",
      "$3.25\n",
      "-------------\n",
      "Daley Street Intese / Extreme Aluminium Nespresso Compatible Coffee Capsules | 10 pack\n",
      "$3.25\n",
      "-------------\n",
      "Lavazza Tierra Organic Nespresso Compatible Caps | 10 pack\n",
      "$6.90\n",
      "-------------\n",
      "Coles Urban Coffee Culture Strong Caffitaly Compatible Coffee Capsules | 10 pack\n",
      "$4.00\n",
      "-------------\n",
      "Coles Urban Coffee Culture Espresso Caffitaly Compatible Coffee Capsules | 10 pack\n",
      "$4.00\n",
      "-------------\n",
      "Coles Urban Coffee Culture Double Espresso Caffitaly Compatible Coffee Capsules | 10 pack\n",
      "$4.00\n",
      "-------------\n",
      "Coles Urban Coffee Culture Capsules Medium Intensity Aluminium | 10 pack\n",
      "$4.00\n",
      "-------------\n",
      "Coles Urban Coffee Culture Decaf Aluminium | 10 pack\n",
      "$4.00\n",
      "-------------\n",
      "Coles Urban Coffee Culture Strong Aluminium | 10 pack\n",
      "$4.00\n",
      "-------------\n",
      "Coles Urban Coffee Culture Intense Aluminium | 10 pack\n",
      "$4.00\n",
      "-------------\n",
      "St Remio Coffee Expressi/Caffitaly Compatible Intense Capsules | 10 pack\n",
      "$4.10\n",
      "-------------\n",
      "St Remio Coffee Expressi/Caffitaly Compatible Classic Capsules | 10 pack\n",
      "$4.10\n",
      "-------------\n",
      "St Remio Coffee Expressi/Caffitaly Supreme Capsules | 10 Pack\n",
      "$4.10\n",
      "-------------\n",
      "St Remio Expressi/Caffitaly Hot Chocolate Capsules | 10 pack\n",
      "$4.10\n",
      "-------------\n",
      "Coles Urban Coffee Culture Organic Home Compostable Capsules | 10 pack\n",
      "$4.50\n",
      "-------------\n",
      "Lavazza Espresso Classico Nespresso Compatible Pods | 10 pack\n",
      "$4.80\n",
      "-------------\n",
      "Lavazza Espresso Intenso Nespresso Compatible Pods | 10 pack\n",
      "$4.80\n",
      "-------------\n",
      "Lavazza Espresso Lungo Nespresso Compatible Pods | 10 pack\n",
      "$4.80\n",
      "-------------\n",
      "Lavazza Espresso Decaf Nespresso Compatible Pods | 10 pack\n",
      "$4.80\n",
      "-------------\n",
      "Lavazza Qualita Rossa Nespresso Compatible Caps | 10 pack\n",
      "$4.80\n",
      "-------------\n",
      "Lavazza Espresso Ristretto Nespresso Compatible Pods | 10 pack\n",
      "$4.80\n",
      "-------------\n",
      "L'OR Espresso Lungo Profondo Intensity 8 Coffee Capsules 52g | 10 pack\n",
      "$4.90\n",
      "-------------\n",
      "L'OR Espresso Onyx Intensity 12 Coffee Capsules 52g | 10 pack\n",
      "$4.90\n",
      "-------------\n",
      "L'OR Espresso Supremo Intensity 10 Coffee Capsules 52g | 10 Pack\n",
      "$4.90\n",
      "-------------\n",
      "L'OR Espresso Colombia Intensity 8 Coffee Capsules 52g | 10 pack\n",
      "$4.90\n",
      "-------------\n",
      "L'OR Espresso Ristretto Intensity 11 Coffee Capsules 52g | 10 pack\n",
      "$4.90\n",
      "-------------\n",
      "L'OR Espresso Lungo Estremo Intensity 10 Coffee Capsules 52g | 10 pack\n",
      "$4.90\n",
      "-------------\n",
      "L'OR Espresso Decaffeinato Ristretto Intensity 9 Coffee Capsules 52g | 10 pack\n",
      "$4.90\n",
      "-------------\n",
      "L'OR Espresso Ultimo Capsules | 10 pack\n",
      "$4.90\n",
      "-------------\n",
      "Nescafe Farmers Origins Americas Lungo Capsules | 10 pack\n",
      "$4.90\n",
      "-------------\n",
      "Nescafe Farmers Origins Colombia Ristretto Decaf | 10 pack\n",
      "$4.90\n",
      "-------------\n",
      "Nescafe Farmers Origins Brazil Lungo Capsules | 10 pack\n",
      "$4.90\n",
      "-------------\n",
      "Nescafe Farmers Origins Africa Ristretto Capsules | 10 pack\n",
      "$4.90\n",
      "-------------\n",
      "Nescafe Farmers Origins India Espresso Capsules | 10 pack\n",
      "$4.90\n",
      "-------------\n",
      "L'OR Espresso Limited Edition Capsules | 10 pack\n",
      "$4.90\n",
      "-------------\n",
      "L'Or Espresso Chocolate Capsules | 10 pack\n",
      "$4.90\n",
      "-------------\n",
      "L'Or Espresso Vanilla Capsules | 10 pack\n",
      "$4.90\n",
      "-------------\n",
      "L'OR Espresso Caramel Capsules | 10 pack\n",
      "$4.90\n",
      "-------------\n",
      "Illy Espresso Classico Capsules | 10 pack\n",
      "$5.25\n",
      "-------------\n",
      "Vittoria Italian Nespresso Compatible Coffee Capsules | 10 pack\n",
      "$5.25\n",
      "-------------\n",
      "Vittoria Espresso Nespresso Compatible Coffee Capsules | 10 pack\n",
      "$5.25\n",
      "-------------\n",
      "Vittoria Latte Nespresso Compatible Coffee Capsules | 10 pack\n",
      "$5.25\n",
      "-------------\n",
      "Vittoria Decaffeinated Nespresso Compatible Coffee Capsules | 10 pack\n",
      "$5.25\n",
      "-------------\n",
      "Vittoria Oro Nespresso Compatible Coffee Capsules | 10 pack\n",
      "$5.25\n"
     ]
    }
   ],
   "source": [
    "# Examine the results, then determine element that contains sought info\n",
    "# results are returned as an iterable list\n",
    "cofee_results = soup.find_all('div', class_='product__message-title_area')\n",
    "\n",
    "# Loop through returned results\n",
    "for result in cofee_results:\n",
    "    # Error handling\n",
    "    try:\n",
    "        # Identify and return title of product listing\n",
    "#        \n",
    "        title = result.find('a', class_='product__link').text\n",
    "        # Identify and return link to listing. Square bracket notation to access attributes of an element\n",
    "        price = result.find('span', class_='price__value').text\n",
    "  \n",
    "\n",
    "        # Run only if titles, prices per 1 Liter, \n",
    "        if(title and price):\n",
    "            # Print results\n",
    "            print('-------------')\n",
    "            print(title)\n",
    "            print(price)\n",
    "            \n",
    "\n",
    "            # Dictionary to be inserted as a MongoDB document\n",
    "            post = {\n",
    "                'title': title,\n",
    "                'price': price,\n",
    "                \n",
    "            }\n",
    "\n",
    "            collection.insert_one(post)\n",
    "\n",
    "    except Exception as e:\n",
    "        print(e)\n",
    "        "
   ]
  },
  {
   "cell_type": "markdown",
   "metadata": {},
   "source": []
  },
  {
   "cell_type": "code",
   "execution_count": null,
   "metadata": {},
   "outputs": [],
   "source": []
  }
 ],
 "metadata": {
  "kernelspec": {
   "display_name": "Python 3 (ipykernel)",
   "language": "python",
   "name": "python3"
  },
  "language_info": {
   "codemirror_mode": {
    "name": "ipython",
    "version": 3
   },
   "file_extension": ".py",
   "mimetype": "text/x-python",
   "name": "python",
   "nbconvert_exporter": "python",
   "pygments_lexer": "ipython3",
   "version": "3.7.7"
  },
  "varInspector": {
   "cols": {
    "lenName": 16,
    "lenType": 16,
    "lenVar": 40
   },
   "kernels_config": {
    "python": {
     "delete_cmd_postfix": "",
     "delete_cmd_prefix": "del ",
     "library": "var_list.py",
     "varRefreshCmd": "print(var_dic_list())"
    },
    "r": {
     "delete_cmd_postfix": ") ",
     "delete_cmd_prefix": "rm(",
     "library": "var_list.r",
     "varRefreshCmd": "cat(var_dic_list()) "
    }
   },
   "types_to_exclude": [
    "module",
    "function",
    "builtin_function_or_method",
    "instance",
    "_Feature"
   ],
   "window_display": false
  }
 },
 "nbformat": 4,
 "nbformat_minor": 4
}
