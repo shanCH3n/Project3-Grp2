{
 "cells": [
  {
   "cell_type": "code",
   "execution_count": 1,
   "metadata": {
    "jupyter": {
     "outputs_hidden": true
    }
   },
   "outputs": [],
   "source": [
    "# import Dependencies\n",
    "from bs4 import BeautifulSoup\n",
    "import requests\n",
    "import pymongo"
   ]
  },
  {
   "cell_type": "code",
   "execution_count": 2,
   "metadata": {
    "jupyter": {
     "outputs_hidden": true
    }
   },
   "outputs": [],
   "source": [
    "# Initialise PyMongo to work with MongoDBs\n",
    "conn = 'mongodb://localhost:27017'\n",
    "client = pymongo.MongoClient(conn)"
   ]
  },
  {
   "cell_type": "code",
   "execution_count": 3,
   "metadata": {
    "jupyter": {
     "outputs_hidden": true
    }
   },
   "outputs": [],
   "source": [
    "# Define database and collection\n",
    "db = client.coles1_db\n",
    "collection = db.cofee"
   ]
  },
  {
   "cell_type": "code",
   "execution_count": 7,
   "metadata": {
    "jupyter": {
     "outputs_hidden": true
    }
   },
   "outputs": [],
   "source": [
    "# Milk URL of page to be scraped (Ascending order price)\n",
    "url = 'https://www.coles.com.au/browse/pantry/coffee/capsules?sortBy=priceAscending'\n",
    "\n",
    "# Retrieve page with the requests module\n",
    "response = requests.get(url)\n",
    "# Create BeautifulSoup object; parse with 'lxml'\n",
    "soup = BeautifulSoup(response.text, 'lxml')"
   ]
  },
  {
   "cell_type": "code",
   "execution_count": 8,
   "metadata": {},
   "outputs": [
    {
     "data": {
      "text/plain": [
       "<Response [200]>"
      ]
     },
     "execution_count": 8,
     "metadata": {},
     "output_type": "execute_result"
    }
   ],
   "source": [
    "response"
   ]
  },
  {
   "cell_type": "code",
   "execution_count": 9,
   "metadata": {},
   "outputs": [
    {
     "name": "stdout",
     "output_type": "stream",
     "text": [
      "-------------\n",
      "Daley Street Medium/Dark Aluminium Nespresso Compatible Coffee Capsules | 10 pack\n",
      "$3.25\n",
      "-------------\n",
      "Daley Street Daley Street Medium Aluminium Nespresso Compatible Coffee Capsules | 10 pack\n",
      "$3.25\n",
      "-------------\n",
      "Daley Street Dark Aluminium Nespresso Compatible Coffee Capsules | 10 pack\n",
      "$3.25\n",
      "-------------\n",
      "Daley Street Intense Aluminium Nespresso Compatible Coffee Capsules | 10 pack\n",
      "$3.25\n",
      "-------------\n",
      "Daley Street Dark/Intense Aluminium Nespresso Compatible Coffee Capsules | 10 pack\n",
      "$3.25\n",
      "-------------\n",
      "Daley Street Intese / Extreme Aluminium Nespresso Compatible Coffee Capsules | 10 pack\n",
      "$3.25\n",
      "-------------\n",
      "Lavazza Tierra Organic Nespresso Compatible Caps | 10 pack\n",
      "$6.90\n",
      "-------------\n",
      "Coles Urban Coffee Culture Strong Caffitaly Compatible Coffee Capsules | 10 pack\n",
      "$4.00\n",
      "-------------\n",
      "Coles Urban Coffee Culture Espresso Caffitaly Compatible Coffee Capsules | 10 pack\n",
      "$4.00\n",
      "-------------\n",
      "Coles Urban Coffee Culture Double Espresso Caffitaly Compatible Coffee Capsules | 10 pack\n",
      "$4.00\n",
      "-------------\n",
      "Coles Urban Coffee Culture Capsules Medium Intensity Aluminium | 10 pack\n",
      "$4.00\n",
      "-------------\n",
      "Coles Urban Coffee Culture Decaf Aluminium | 10 pack\n",
      "$4.00\n",
      "-------------\n",
      "Coles Urban Coffee Culture Strong Aluminium | 10 pack\n",
      "$4.00\n",
      "-------------\n",
      "Coles Urban Coffee Culture Intense Aluminium | 10 pack\n",
      "$4.00\n",
      "-------------\n",
      "St Remio Coffee Expressi/Caffitaly Compatible Intense Capsules | 10 pack\n",
      "$4.10\n",
      "-------------\n",
      "St Remio Coffee Expressi/Caffitaly Compatible Classic Capsules | 10 pack\n",
      "$4.10\n",
      "-------------\n",
      "St Remio Coffee Expressi/Caffitaly Supreme Capsules | 10 Pack\n",
      "$4.10\n",
      "-------------\n",
      "St Remio Expressi/Caffitaly Hot Chocolate Capsules | 10 pack\n",
      "$4.10\n",
      "-------------\n",
      "Coles Urban Coffee Culture Organic Home Compostable Capsules | 10 pack\n",
      "$4.50\n",
      "-------------\n",
      "Lavazza Espresso Classico Nespresso Compatible Pods | 10 pack\n",
      "$4.80\n",
      "-------------\n",
      "Lavazza Espresso Intenso Nespresso Compatible Pods | 10 pack\n",
      "$4.80\n",
      "-------------\n",
      "Lavazza Espresso Lungo Nespresso Compatible Pods | 10 pack\n",
      "$4.80\n",
      "-------------\n",
      "Lavazza Espresso Decaf Nespresso Compatible Pods | 10 pack\n",
      "$4.80\n",
      "-------------\n",
      "Lavazza Qualita Rossa Nespresso Compatible Caps | 10 pack\n",
      "$4.80\n",
      "-------------\n",
      "Lavazza Espresso Ristretto Nespresso Compatible Pods | 10 pack\n",
      "$4.80\n",
      "-------------\n",
      "L'OR Espresso Lungo Profondo Intensity 8 Coffee Capsules 52g | 10 pack\n",
      "$4.90\n",
      "-------------\n",
      "L'OR Espresso Onyx Intensity 12 Coffee Capsules 52g | 10 pack\n",
      "$4.90\n",
      "-------------\n",
      "L'OR Espresso Supremo Intensity 10 Coffee Capsules 52g | 10 Pack\n",
      "$4.90\n",
      "-------------\n",
      "L'OR Espresso Colombia Intensity 8 Coffee Capsules 52g | 10 pack\n",
      "$4.90\n",
      "-------------\n",
      "L'OR Espresso Ristretto Intensity 11 Coffee Capsules 52g | 10 pack\n",
      "$4.90\n",
      "-------------\n",
      "L'OR Espresso Lungo Estremo Intensity 10 Coffee Capsules 52g | 10 pack\n",
      "$4.90\n",
      "-------------\n",
      "L'OR Espresso Decaffeinato Ristretto Intensity 9 Coffee Capsules 52g | 10 pack\n",
      "$4.90\n",
      "-------------\n",
      "L'OR Espresso Ultimo Capsules | 10 pack\n",
      "$4.90\n",
      "-------------\n",
      "Nescafe Farmers Origins Americas Lungo Capsules | 10 pack\n",
      "$4.90\n",
      "-------------\n",
      "Nescafe Farmers Origins Colombia Ristretto Decaf | 10 pack\n",
      "$4.90\n",
      "-------------\n",
      "Nescafe Farmers Origins Brazil Lungo Capsules | 10 pack\n",
      "$4.90\n",
      "-------------\n",
      "Nescafe Farmers Origins Africa Ristretto Capsules | 10 pack\n",
      "$4.90\n",
      "-------------\n",
      "Nescafe Farmers Origins India Espresso Capsules | 10 pack\n",
      "$4.90\n",
      "-------------\n",
      "L'OR Espresso Limited Edition Capsules | 10 pack\n",
      "$4.90\n",
      "-------------\n",
      "L'Or Espresso Chocolate Capsules | 10 pack\n",
      "$4.90\n",
      "-------------\n",
      "L'Or Espresso Vanilla Capsules | 10 pack\n",
      "$4.90\n",
      "-------------\n",
      "L'OR Espresso Caramel Capsules | 10 pack\n",
      "$4.90\n",
      "-------------\n",
      "Illy Espresso Classico Capsules | 10 pack\n",
      "$5.25\n",
      "-------------\n",
      "Vittoria Italian Nespresso Compatible Coffee Capsules | 10 pack\n",
      "$5.25\n",
      "-------------\n",
      "Vittoria Espresso Nespresso Compatible Coffee Capsules | 10 pack\n",
      "$5.25\n",
      "-------------\n",
      "Vittoria Latte Nespresso Compatible Coffee Capsules | 10 pack\n",
      "$5.25\n",
      "-------------\n",
      "Vittoria Decaffeinated Nespresso Compatible Coffee Capsules | 10 pack\n",
      "$5.25\n",
      "-------------\n",
      "Vittoria Oro Nespresso Compatible Coffee Capsules | 10 pack\n",
      "$5.25\n"
     ]
    }
   ],
   "source": [
    "# Examine the results, then determine element that contains sought info\n",
    "# results are returned as an iterable list\n",
    "cofee_results = soup.find_all('div', class_='product__message-title_area')\n",
    "\n",
    "# Loop through returned results\n",
    "for result in cofee_results:\n",
    "    # Error handling\n",
    "    try:\n",
    "        # Identify and return title of product listing\n",
    "#        \n",
    "        title = result.find('a', class_='product__link').text\n",
    "        # Identify and return link to listing. Square bracket notation to access attributes of an element\n",
    "        price = result.find('span', class_='price__value').text\n",
    "  \n",
    "\n",
    "        # Run only if titles, prices per 1 Liter, \n",
    "        if(title and price):\n",
    "            # Print results\n",
    "            print('-------------')\n",
    "            print(title)\n",
    "            print(price)\n",
    "            \n",
    "\n",
    "            # Dictionary to be inserted as a MongoDB document\n",
    "            post = {\n",
    "                'title': title,\n",
    "                'price': price,\n",
    "                \n",
    "            }\n",
    "\n",
    "            collection.insert_one(post)\n",
    "\n",
    "    except Exception as e:\n",
    "        print(e)\n",
    "        "
   ]
  },
  {
   "cell_type": "code",
   "execution_count": 10,
   "metadata": {},
   "outputs": [],
   "source": [
    "list_cur = list(cofee_results)"
   ]
  },
  {
   "cell_type": "code",
   "execution_count": null,
   "metadata": {},
   "outputs": [],
   "source": []
  },
  {
   "cell_type": "code",
   "execution_count": null,
   "metadata": {},
   "outputs": [],
   "source": []
  },
  {
   "cell_type": "code",
   "execution_count": null,
   "metadata": {},
   "outputs": [],
   "source": []
  },
  {
   "cell_type": "code",
   "execution_count": null,
   "metadata": {},
   "outputs": [],
   "source": []
  },
  {
   "cell_type": "code",
   "execution_count": 11,
   "metadata": {},
   "outputs": [],
   "source": [
    "import pandas as pd"
   ]
  },
  {
   "cell_type": "code",
   "execution_count": 12,
   "metadata": {},
   "outputs": [],
   "source": [
    "df = pd.DataFrame(list_cur)"
   ]
  },
  {
   "cell_type": "code",
   "execution_count": 13,
   "metadata": {},
   "outputs": [
    {
     "data": {
      "text/html": [
       "<div>\n",
       "<style scoped>\n",
       "    .dataframe tbody tr th:only-of-type {\n",
       "        vertical-align: middle;\n",
       "    }\n",
       "\n",
       "    .dataframe tbody tr th {\n",
       "        vertical-align: top;\n",
       "    }\n",
       "\n",
       "    .dataframe thead th {\n",
       "        text-align: right;\n",
       "    }\n",
       "</style>\n",
       "<table border=\"1\" class=\"dataframe\">\n",
       "  <thead>\n",
       "    <tr style=\"text-align: right;\">\n",
       "      <th></th>\n",
       "      <th>0</th>\n",
       "    </tr>\n",
       "  </thead>\n",
       "  <tbody>\n",
       "    <tr>\n",
       "      <th>0</th>\n",
       "      <td>[[[Daley Street Medium/Dark Aluminium Nespress...</td>\n",
       "    </tr>\n",
       "    <tr>\n",
       "      <th>1</th>\n",
       "      <td>[[[Daley Street Daley Street Medium Aluminium ...</td>\n",
       "    </tr>\n",
       "    <tr>\n",
       "      <th>2</th>\n",
       "      <td>[[[Daley Street Dark Aluminium Nespresso Compa...</td>\n",
       "    </tr>\n",
       "    <tr>\n",
       "      <th>3</th>\n",
       "      <td>[[[Daley Street Intense Aluminium Nespresso Co...</td>\n",
       "    </tr>\n",
       "    <tr>\n",
       "      <th>4</th>\n",
       "      <td>[[[Daley Street Dark/Intense Aluminium Nespres...</td>\n",
       "    </tr>\n",
       "  </tbody>\n",
       "</table>\n",
       "</div>"
      ],
      "text/plain": [
       "                                                   0\n",
       "0  [[[Daley Street Medium/Dark Aluminium Nespress...\n",
       "1  [[[Daley Street Daley Street Medium Aluminium ...\n",
       "2  [[[Daley Street Dark Aluminium Nespresso Compa...\n",
       "3  [[[Daley Street Intense Aluminium Nespresso Co...\n",
       "4  [[[Daley Street Dark/Intense Aluminium Nespres..."
      ]
     },
     "execution_count": 13,
     "metadata": {},
     "output_type": "execute_result"
    }
   ],
   "source": [
    "df.head()"
   ]
  },
  {
   "cell_type": "code",
   "execution_count": null,
   "metadata": {},
   "outputs": [],
   "source": [
    "df.dtypes"
   ]
  },
  {
   "cell_type": "code",
   "execution_count": null,
   "metadata": {},
   "outputs": [],
   "source": []
  },
  {
   "cell_type": "code",
   "execution_count": null,
   "metadata": {},
   "outputs": [],
   "source": [
    "import json \n",
    "with open('personal.json', 'w') as json_file:\n",
    "    json.dump(data, json_file)"
   ]
  },
  {
   "cell_type": "code",
   "execution_count": null,
   "metadata": {},
   "outputs": [],
   "source": [
    "import json\n",
    "# Export data to JSON\n",
    "jsonFile=json.dumps(coles1)\n",
    "print(jsonFile)\n"
   ]
  },
  {
   "cell_type": "code",
   "execution_count": null,
   "metadata": {},
   "outputs": [],
   "source": [
    "coles1 = db.items1.find({}, {'_id': False})\n",
    "\n",
    "print(coles1)"
   ]
  },
  {
   "cell_type": "code",
   "execution_count": null,
   "metadata": {},
   "outputs": [],
   "source": [
    "# store data into Js object\n",
    "\n",
    "\n",
    "import json\n",
    "from bson import json_util\n",
    "import os \n",
    "txtfile_csvpath=os.path.join( 'coles1_data.js')\n",
    "with open(txtfile_csvpath, \"w\") as txt_file: \n",
    "    txt_file.write(\"let data=[\")\n",
    "    for doc in coles1:\n",
    "        json.dump(doc, txt_file)\n",
    "        txt_file.write(\",\")\n",
    "    txt_file.write(\"]\")\n",
    "#         json_docs.append(json_doc)\n",
    "# json_docs = []\n",
    "\n",
    "     \n",
    "    \n",
    "   \n"
   ]
  },
  {
   "cell_type": "code",
   "execution_count": null,
   "metadata": {},
   "outputs": [],
   "source": []
  }
 ],
 "metadata": {
  "kernelspec": {
   "display_name": "Python 3 (ipykernel)",
   "language": "python",
   "name": "python3"
  },
  "language_info": {
   "codemirror_mode": {
    "name": "ipython",
    "version": 3
   },
   "file_extension": ".py",
   "mimetype": "text/x-python",
   "name": "python",
   "nbconvert_exporter": "python",
   "pygments_lexer": "ipython3",
   "version": "3.7.7"
  },
  "varInspector": {
   "cols": {
    "lenName": 16,
    "lenType": 16,
    "lenVar": 40
   },
   "kernels_config": {
    "python": {
     "delete_cmd_postfix": "",
     "delete_cmd_prefix": "del ",
     "library": "var_list.py",
     "varRefreshCmd": "print(var_dic_list())"
    },
    "r": {
     "delete_cmd_postfix": ") ",
     "delete_cmd_prefix": "rm(",
     "library": "var_list.r",
     "varRefreshCmd": "cat(var_dic_list()) "
    }
   },
   "types_to_exclude": [
    "module",
    "function",
    "builtin_function_or_method",
    "instance",
    "_Feature"
   ],
   "window_display": false
  }
 },
 "nbformat": 4,
 "nbformat_minor": 4
}
