{
 "cells": [
  {
   "cell_type": "code",
   "execution_count": 4,
   "id": "1a07c913",
   "metadata": {},
   "outputs": [],
   "source": [
    "from flask import Flask, render_template, redirect, jsonify\n",
    "from flask_pymongo import PyMongo\n",
    "from scrape_fuel import scrape_fuel_overall\n",
    "from pymongo import MongoClient\n",
    "from flask_cors import CORS, cross_origin\n",
    "from datetime import datetime as dt"
   ]
  },
  {
   "cell_type": "code",
   "execution_count": 6,
   "id": "a66a1e90",
   "metadata": {},
   "outputs": [
    {
     "ename": "AttributeError",
     "evalue": "'datetime.datetime' object has no attribute 'strfttime'",
     "output_type": "error",
     "traceback": [
      "\u001b[1;31m---------------------------------------------------------------------------\u001b[0m",
      "\u001b[1;31mAttributeError\u001b[0m                            Traceback (most recent call last)",
      "\u001b[1;32m~\\AppData\\Local\\Temp\\ipykernel_22308\\1773107863.py\u001b[0m in \u001b[0;36m<module>\u001b[1;34m\u001b[0m\n\u001b[1;32m----> 1\u001b[1;33m \u001b[0mdt\u001b[0m\u001b[1;33m.\u001b[0m\u001b[0mnow\u001b[0m\u001b[1;33m(\u001b[0m\u001b[1;33m)\u001b[0m\u001b[1;33m.\u001b[0m\u001b[0mstrfttime\u001b[0m\u001b[1;33m(\u001b[0m\u001b[1;34m\"fuel%d%b\"\u001b[0m\u001b[1;33m)\u001b[0m\u001b[1;33m\u001b[0m\u001b[1;33m\u001b[0m\u001b[0m\n\u001b[0m",
      "\u001b[1;31mAttributeError\u001b[0m: 'datetime.datetime' object has no attribute 'strfttime'"
     ]
    }
   ],
   "source": [
    "dt.now()"
   ]
  },
  {
   "cell_type": "code",
   "execution_count": 8,
   "id": "d61ef691",
   "metadata": {},
   "outputs": [
    {
     "data": {
      "text/plain": [
       "'fuel07Feb2023'"
      ]
     },
     "execution_count": 8,
     "metadata": {},
     "output_type": "execute_result"
    }
   ],
   "source": [
    "dt.strftime(dt.now(),\"fuel%d%b%Y\")"
   ]
  },
  {
   "cell_type": "code",
   "execution_count": 3,
   "id": "ac67e304",
   "metadata": {},
   "outputs": [
    {
     "data": {
      "text/plain": [
       "datetime.datetime(2023, 2, 7, 11, 7, 48, 128109)"
      ]
     },
     "execution_count": 3,
     "metadata": {},
     "output_type": "execute_result"
    }
   ],
   "source": [
    "datetime.datetime.now()"
   ]
  },
  {
   "cell_type": "code",
   "execution_count": 9,
   "id": "8f2bbd7e",
   "metadata": {},
   "outputs": [],
   "source": [
    "# Create an instance of Flask\n",
    "app = Flask(__name__)\n",
    "\n",
    "CORS(app, resources={\n",
    "    r\"/*\": {\n",
    "        \"origins\": \"*\"\n",
    "    }\n",
    "})\n",
    "app.config['CORS_HEADERS'] = 'Content-Type'\n",
    "app.config['CORS_ORIGINS'] = \"*\"\n",
    "\n",
    "# Use PyMongo to establish Mongo connection\n",
    "app.config[\"MONGO_URI\"] = \"mongodb://localhost:27017/fuelWatch_db\"\n",
    "mongo = PyMongo(app)\n"
   ]
  },
  {
   "cell_type": "code",
   "execution_count": 10,
   "id": "245e6827",
   "metadata": {},
   "outputs": [],
   "source": [
    "# Connect to collection within MongoDB\n",
    "client = MongoClient()\n",
    "db = client.fuelWatch_db\n",
    "\n",
    "## Initial Build Instructions\n",
    "# Name of relevant collection in 'fuel_db' is fuel31Jan. Hence: 'db.fuel31Jan' below\n",
    "# collection = db.fuel31Jan\n",
    "# Expanded further by writing code to auto-label collection with the date of scrape\n",
    "\n",
    "@app.route('/')\n",
    "@cross_origin()\n",
    "def index():\n",
    "\n",
    "    return render_template(\"index.html\")\n"
   ]
  },
  {
   "cell_type": "code",
   "execution_count": null,
   "id": "8ecdb375",
   "metadata": {},
   "outputs": [],
   "source": [
    "# This route scrapes the data from the Fuel Watch WA RSS feed and stores it into a MongoDB collection 'fuelMain'.\n",
    "@app.route('/scrapefuel')\n",
    "@cross_origin()\n",
    "def scrape():\n",
    "    station_data = scrape_fuel_overall()\n",
    "    print(station_data) # Check if data has been scraped\n",
    "\n",
    "    # Get the current date to label the collection. DELETE the two lines below if reverting to initial build.\n",
    "    today = dt.strftime(dt.now(),\"fuel%d%b%Y\")\n",
    "    collection = db[today]\n",
    "\n",
    "    # Insert scraped data into MongoDB collection\n",
    "    ## Initial build: mongo.db.fuel31Jan.insert_many(station_data)\n",
    "    collection.insert_many(station_data)\n",
    "\n",
    "    return redirect(\"/\")\n"
   ]
  },
  {
   "cell_type": "code",
   "execution_count": null,
   "id": "98283471",
   "metadata": {},
   "outputs": [],
   "source": [
    "# This route does not get displayed on landing page html but DO NOT delete as it is linked to the route for the fuel map.\n",
    "@app.route('/details')\n",
    "@cross_origin()\n",
    "def details():\n",
    "    details = []\n",
    "    today = datetime.now().strfttime(\"fuel%d%b\")\n",
    "    collection = db[today]\n",
    "    for doc in collection.find({}):\n",
    "        details.append({\"name\": doc[\"Name\"], \"lat\": doc[\"Latitude\"], \"lng\": doc[\"Longitude\"], \"price\": doc[\"Price\"], \"address\": doc[\"Address\"]})\n",
    "    return jsonify(details)\n"
   ]
  }
 ],
 "metadata": {
  "kernelspec": {
   "display_name": "Python 3 (ipykernel)",
   "language": "python",
   "name": "python3"
  },
  "language_info": {
   "codemirror_mode": {
    "name": "ipython",
    "version": 3
   },
   "file_extension": ".py",
   "mimetype": "text/x-python",
   "name": "python",
   "nbconvert_exporter": "python",
   "pygments_lexer": "ipython3",
   "version": "3.7.13"
  }
 },
 "nbformat": 4,
 "nbformat_minor": 5
}
