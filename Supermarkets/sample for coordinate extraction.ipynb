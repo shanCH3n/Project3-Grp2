{
 "cells": [
  {
   "cell_type": "code",
   "execution_count": 1,
   "metadata": {},
   "outputs": [],
   "source": [
    "import requests\n",
    "from config import api_key\n",
    "url = \"https://maps.googleapis.com/maps/api/place/findplacefromtext/json?input=coles&inputtype=textquery&locationbias=circle%3A2000%15.857048%2C-31.953512&fields=formatted_address%2Cname%2Crating%2Copening_hours%2Cgeometry&key=\"\n",
    "api_key =\"\"+api_key\n"
   ]
  },
  {
   "cell_type": "code",
   "execution_count": 2,
   "metadata": {},
   "outputs": [],
   "source": [
    "# api_key =\"\"+api_key\n",
    "\n",
    "# payload={}\n",
    "# headers = {}\n",
    "\n",
    "# response = requests.request(\"GET\", url+ api_key, headers=headers, data=payload)\n",
    "\n",
    "# print(response.text)\n",
    "\n",
    "\n",
    "# url = \"http://www.omdbapi.com/?t=\"\n",
    "# api_key = \"&apikey=\" + YOUR_API_KEY"
   ]
  },
  {
   "cell_type": "code",
   "execution_count": 3,
   "metadata": {},
   "outputs": [],
   "source": [
    "response = requests.request(\"GET\", url+ api_key)"
   ]
  },
  {
   "cell_type": "code",
   "execution_count": 4,
   "metadata": {},
   "outputs": [
    {
     "data": {
      "text/plain": [
       "<Response [200]>"
      ]
     },
     "execution_count": 4,
     "metadata": {},
     "output_type": "execute_result"
    }
   ],
   "source": [
    "response"
   ]
  },
  {
   "cell_type": "code",
   "execution_count": 7,
   "metadata": {},
   "outputs": [
    {
     "name": "stdout",
     "output_type": "stream",
     "text": [
      "{\n",
      "   \"candidates\" : [\n",
      "      {\n",
      "         \"formatted_address\" : \"1382 Albany Hwy, Cannington WA 6107, Australia\",\n",
      "         \"geometry\" : {\n",
      "            \"location\" : {\n",
      "               \"lat\" : -32.0210442,\n",
      "               \"lng\" : 115.9397835\n",
      "            },\n",
      "            \"viewport\" : {\n",
      "               \"northeast\" : {\n",
      "                  \"lat\" : -32.01963112010728,\n",
      "                  \"lng\" : 115.9410637798927\n",
      "               },\n",
      "               \"southwest\" : {\n",
      "                  \"lat\" : -32.02233077989272,\n",
      "                  \"lng\" : 115.9383641201073\n",
      "               }\n",
      "            }\n",
      "         },\n",
      "         \"name\" : \"Coles Carousel\",\n",
      "         \"opening_hours\" : {\n",
      "            \"open_now\" : true\n",
      "         },\n",
      "         \"rating\" : 4.2\n",
      "      }\n",
      "   ],\n",
      "   \"status\" : \"OK\"\n",
      "}\n",
      "\n"
     ]
    }
   ],
   "source": [
    "print(response.text)"
   ]
  }
 ],
 "metadata": {
  "kernelspec": {
   "display_name": "Python 3 (ipykernel)",
   "language": "python",
   "name": "python3"
  },
  "language_info": {
   "codemirror_mode": {
    "name": "ipython",
    "version": 3
   },
   "file_extension": ".py",
   "mimetype": "text/x-python",
   "name": "python",
   "nbconvert_exporter": "python",
   "pygments_lexer": "ipython3",
   "version": "3.7.7"
  }
 },
 "nbformat": 4,
 "nbformat_minor": 4
}
