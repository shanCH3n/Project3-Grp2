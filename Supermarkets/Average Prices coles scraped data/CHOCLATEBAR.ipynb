{
 "cells": [
  {
   "cell_type": "markdown",
   "metadata": {},
   "source": [
    "## Coles Supermarkets\n",
    "### Scraped data FOR Chocolate Bars"
   ]
  },
  {
   "cell_type": "code",
   "execution_count": 1,
   "metadata": {
    "jupyter": {
     "outputs_hidden": true
    }
   },
   "outputs": [],
   "source": [
    "# import Dependencies\n",
    "from bs4 import BeautifulSoup\n",
    "import requests\n",
    "import pymongo"
   ]
  },
  {
   "cell_type": "code",
   "execution_count": 2,
   "metadata": {
    "jupyter": {
     "outputs_hidden": true
    }
   },
   "outputs": [],
   "source": [
    "# Initialise PyMongo to work with MongoDBs\n",
    "conn = 'mongodb://localhost:27017'\n",
    "client = pymongo.MongoClient(conn)"
   ]
  },
  {
   "cell_type": "code",
   "execution_count": 3,
   "metadata": {
    "jupyter": {
     "outputs_hidden": true
    }
   },
   "outputs": [],
   "source": [
    "# Define database and collection\n",
    "db = client.supermarket_db\n",
    "collection = db.choclates"
   ]
  },
  {
   "cell_type": "code",
   "execution_count": 4,
   "metadata": {
    "jupyter": {
     "outputs_hidden": true
    }
   },
   "outputs": [],
   "source": [
    "# Milk URL of page to be scraped (Ascending order price)\n",
    "url = 'https://www.coles.com.au/browse/pantry/confectionery/chocolate-bars?sortBy=priceAscending'\n",
    "\n",
    "# Retrieve page with the requests module\n",
    "response = requests.get(url)\n",
    "# Create BeautifulSoup object; parse with 'lxml'\n",
    "soup = BeautifulSoup(response.text, 'lxml')"
   ]
  },
  {
   "cell_type": "code",
   "execution_count": 5,
   "metadata": {},
   "outputs": [
    {
     "data": {
      "text/plain": [
       "<Response [200]>"
      ]
     },
     "execution_count": 5,
     "metadata": {},
     "output_type": "execute_result"
    }
   ],
   "source": [
    "response"
   ]
  },
  {
   "cell_type": "markdown",
   "metadata": {},
   "source": [
    "\n",
    "  #  Chocolate Bars"
   ]
  },
  {
   "cell_type": "code",
   "execution_count": 6,
   "metadata": {},
   "outputs": [
    {
     "name": "stdout",
     "output_type": "stream",
     "text": [
      "-------------\n",
      "Cadbury Flake Chocolate Bar | 30g\n",
      "$0.90\n",
      "-------------\n",
      "Cadbury Turkish Delight Chocolate Bar | 55g\n",
      "$0.90\n",
      "-------------\n",
      "Cadbury Crunchie Chocolate bar | 50g\n",
      "$0.90\n",
      "-------------\n",
      "Cadbury Bars Chocolate Cherry Ripe | 52g\n",
      "$0.90\n",
      "-------------\n",
      "Cadbury Picnic Chocolate Bar | 46g\n",
      "$0.90\n",
      "-------------\n",
      "Cadbury Cherry Ripe Double Dip Chocolate Bar | 47g\n",
      "$0.90\n",
      "-------------\n",
      "Cadbury Twirl Caramilk Bars | 39g\n",
      "$0.90\n",
      "-------------\n",
      "Cadbury Bar Twirl Breakaway | 40g\n",
      "$0.90\n",
      "-------------\n",
      "Cadbury Caramilk Chocolate Bar | 45g\n",
      "$0.90\n",
      "-------------\n",
      "Cadbury Boost Chocolate Bar | 60g\n",
      "$0.90\n",
      "-------------\n",
      "Cadbury Dairy Milk Caramello Chocolate Bar | 55g\n",
      "$0.90\n",
      "-------------\n",
      "Cadbury Dairy Milk Chunky Chocolate Bar | 50g\n",
      "$0.90\n",
      "-------------\n",
      "Cadbury Dairy Milk Chocolate Roll Pack | 55g\n",
      "$0.90\n",
      "-------------\n",
      "Cadbury Breakaway Bar | 44g\n",
      "$0.90\n",
      "-------------\n",
      "Cadbury Twirl Chocolate Bar | 39g\n",
      "$0.90\n",
      "-------------\n",
      "Cadbury Twirl Strawberry Bars | 39g\n",
      "$0.90\n",
      "-------------\n",
      "Cadbury Twirl Mint Bars | 39g\n",
      "$0.90\n",
      "-------------\n",
      "Cadbury Bar Dream Oreo | 45g\n",
      "$0.90\n",
      "-------------\n",
      "Cadbury Marvellous Creations Jelly Popping Candy Beanies Chocolate Bar | 50g\n",
      "$0.90\n",
      "-------------\n",
      "Cadbury Caramello Koala Chocolate | 35g\n",
      "$1.00\n",
      "-------------\n",
      "Nestle Mint Pattie Chocolate Bar | 20g\n",
      "$1.00\n",
      "-------------\n",
      "Cadbury Curly Wurly Bar | 21.5g\n",
      "$1.00\n",
      "-------------\n",
      "Reeses Nutrageous Chocolate Bar | 47g\n",
      "$1.00\n",
      "-------------\n",
      "Cadbury Dairy Milk Chocolate  Freddo  | 35g\n",
      "$1.00\n",
      "-------------\n",
      "Mars Chocolate Bar with Nougat & Caramel | 64g\n",
      "$1.50\n",
      "-------------\n",
      "Twix Xtra Milk Chocolate Bar With Caramel Biscuit 2 Pack | 72g\n",
      "$1.50\n",
      "'NoneType' object has no attribute 'text'\n",
      "-------------\n",
      "Snickers Chocolate Bar Peanuts Caramel Nougat 2 pieces | 64g\n",
      "$1.50\n",
      "-------------\n",
      "Cadbury Cherry Ripe Chocolate Bars Twin Pack | 80g\n",
      "$1.80\n",
      "'NoneType' object has no attribute 'text'\n",
      "-------------\n",
      "Cadbury Chocolate Crunchie Twin Pack | 80g\n",
      "$1.80\n",
      "'NoneType' object has no attribute 'text'\n",
      "-------------\n",
      "Cadbury Picnic Chocolate Twin Pack | 67g\n",
      "$1.80\n",
      "-------------\n",
      "Cadbury King Size Chocolate Bar Twirl | 58g\n",
      "$1.80\n",
      "-------------\n",
      "Cadbury Fry's Turkish Delight Chocolate | 2 pack\n",
      "$1.80\n",
      "-------------\n",
      "Lindt Lindor Milk Chocolate Bar | 38g\n",
      "$2.00\n",
      "-------------\n",
      "Nestle KitKat Milk Chocolate Bar | 45g\n",
      "$2.00\n",
      "-------------\n",
      "Mars Chocolate Bar with Nougat & Caramel | 47g\n",
      "$2.00\n",
      "-------------\n",
      "Nestle Smarties | 50g\n",
      "$2.00\n",
      "-------------\n",
      "Nestle Peppermint Crisp Chocolate Bar | 35g\n",
      "$2.00\n",
      "-------------\n",
      "Nestle KitKat Chunky Milk Chocolate | 50g\n",
      "$2.00\n",
      "-------------\n",
      "Nestle KitKat Chunky Caramel | 55g\n",
      "$2.00\n",
      "-------------\n",
      "Bounty Milk Chocolate Bar With Coconut | 56g\n",
      "$2.00\n",
      "-------------\n",
      "Reese's Peanut Butter Cups Milk Chocolate 2 pack | 42g\n",
      "$2.00\n",
      "-------------\n",
      "Snickers Chocolate Bar Peanuts Caramel Nougat | 44g\n",
      "$2.00\n",
      "-------------\n",
      "Kinder Bueno White Chocolate Bar | 39g\n",
      "$2.00\n",
      "-------------\n",
      "Nestle Rolo | 52g\n",
      "$2.00\n",
      "-------------\n",
      "Nestle Chokito Bar | 55g\n",
      "$2.00\n"
     ]
    }
   ],
   "source": [
    "# Examine the results, then determine element that contains sought info\n",
    "# results are returned as an iterable list\n",
    "results = soup.find_all('div', class_='product__message-title_area')\n",
    "\n",
    "# Loop through returned results\n",
    "for result in results:\n",
    "    # Error handling\n",
    "    try:\n",
    "        # Identify and return title of product listing\n",
    "#        \n",
    "        title = result.find('a', class_='product__link').text\n",
    "        # Identify and return link to listing. Square bracket notation to access attributes of an element\n",
    "        price = result.find('span', class_='price__value').text\n",
    "\n",
    "        # Run only if titles, prices per 1 Liter, \n",
    "        if(title and price):\n",
    "            # Print results\n",
    "            print('-------------')\n",
    "            print(title)\n",
    "            print(price)\n",
    "            \n",
    "\n",
    "            # Dictionary to be inserted as a MongoDB document\n",
    "            post = {\n",
    "                'title': title,\n",
    "                'price': price,\n",
    "                \n",
    "            }\n",
    "\n",
    "            collection.insert_one(post)\n",
    "\n",
    "    except Exception as e:\n",
    "        print(e)\n",
    "        \n",
    "        \n",
    "        \n",
    "        \n",
    "    "
   ]
  },
  {
   "cell_type": "code",
   "execution_count": null,
   "metadata": {},
   "outputs": [],
   "source": []
  }
 ],
 "metadata": {
  "kernelspec": {
   "display_name": "Python 3 (ipykernel)",
   "language": "python",
   "name": "python3"
  },
  "language_info": {
   "codemirror_mode": {
    "name": "ipython",
    "version": 3
   },
   "file_extension": ".py",
   "mimetype": "text/x-python",
   "name": "python",
   "nbconvert_exporter": "python",
   "pygments_lexer": "ipython3",
   "version": "3.7.7"
  },
  "varInspector": {
   "cols": {
    "lenName": 16,
    "lenType": 16,
    "lenVar": 40
   },
   "kernels_config": {
    "python": {
     "delete_cmd_postfix": "",
     "delete_cmd_prefix": "del ",
     "library": "var_list.py",
     "varRefreshCmd": "print(var_dic_list())"
    },
    "r": {
     "delete_cmd_postfix": ") ",
     "delete_cmd_prefix": "rm(",
     "library": "var_list.r",
     "varRefreshCmd": "cat(var_dic_list()) "
    }
   },
   "types_to_exclude": [
    "module",
    "function",
    "builtin_function_or_method",
    "instance",
    "_Feature"
   ],
   "window_display": false
  }
 },
 "nbformat": 4,
 "nbformat_minor": 4
}
